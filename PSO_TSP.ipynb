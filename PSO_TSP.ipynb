{
 "cells": [
  {
   "cell_type": "code",
   "execution_count": 3,
   "metadata": {
    "collapsed": true
   },
   "outputs": [],
   "source": [
    "import random\n",
    "import sys\n",
    "import numpy as np\n",
    "import copy"
   ]
  },
  {
   "cell_type": "code",
   "execution_count": 4,
   "metadata": {
    "collapsed": true
   },
   "outputs": [],
   "source": [
    "PARTICLE_COUNT = 10\n",
    "V_MAX = 10\n",
    "MAX_EPOCHS = 10000\n",
    "CITY_COUNT = 8\n",
    "XLocs = [30, 40, 40, 29, 19, 9, 9, 20]\n",
    "YLocs = [5, 10, 20, 25, 25, 19, 9, 5]"
   ]
  },
  {
   "cell_type": "code",
   "execution_count": 15,
   "metadata": {
    "collapsed": true
   },
   "outputs": [],
   "source": [
    "class Particle:\n",
    "    def __init__(self):\n",
    "        self.data = [0] * CITY_COUNT\n",
    "        self.bestData = [0] * CITY_COUNT\n",
    "        self.fitness = 0\n",
    "        self.velocity = [0] * CITY_COUNT\n",
    "\n",
    "    def get_data(self):\n",
    "        return self.data\n",
    "    \n",
    "    def set_data(self, value):\n",
    "        self.data = value\n",
    "\n",
    "    def get_fitness(self):\n",
    "        return self.fitness\n",
    "\n",
    "    def set_fitness(self, value):\n",
    "        self.fitness = value\n",
    "\n",
    "    def get_velocity(self):\n",
    "        return self.velocity\n",
    "\n",
    "    def set_velocity(self, velocityScore):\n",
    "        self.velocity = velocityScore\n",
    "        \n",
    "    def get_best(self):\n",
    "        return self.bestData\n",
    "\n",
    "    def set_best(self, value):\n",
    "        self.bestData = value"
   ]
  },
  {
   "cell_type": "code",
   "execution_count": 6,
   "metadata": {
    "collapsed": true
   },
   "outputs": [],
   "source": [
    "class City:\n",
    "    def __init__(self):\n",
    "        self.X = 0\n",
    "        self.Y = 0\n",
    "        \n",
    "    def set_X(self, value):\n",
    "        self.X = value\n",
    "    \n",
    "    def set_Y(self, value):\n",
    "        self.Y = value\n",
    "    \n",
    "    def get_X(self):\n",
    "        return self.X\n",
    "    \n",
    "    def get_Y(self):\n",
    "        return self.Y"
   ]
  },
  {
   "cell_type": "code",
   "execution_count": 7,
   "metadata": {
    "collapsed": false
   },
   "outputs": [],
   "source": [
    "def get_distance(firstcity, secondcity, citymap):\n",
    "    CityA = citymap[firstcity]\n",
    "    CityB = citymap[secondcity]\n",
    "    a1 = ((CityA.get_X() - CityB.get_X())**2)\n",
    "    a2 = ((CityA.get_Y() - CityB.get_Y())**2)\n",
    "    return np.sqrt(a1+a2)"
   ]
  },
  {
   "cell_type": "code",
   "execution_count": 8,
   "metadata": {
    "collapsed": false
   },
   "outputs": [],
   "source": [
    "def get_total_distance(index, particles, citymap):\n",
    "    particles[index].set_fitness(0.0)\n",
    "    data = particles[index].get_data()\n",
    "    \n",
    "    for i in range(CITY_COUNT):\n",
    "        if i == CITY_COUNT-1:\n",
    "            particles[index].set_fitness(particles[index].get_fitness() + get_distance(data[CITY_COUNT - 1], data[0], citymap))\n",
    "        else:\n",
    "            particles[index].set_fitness(particles[index].get_fitness() + get_distance(data[i], data[i+1], citymap))"
   ]
  },
  {
   "cell_type": "code",
   "execution_count": 10,
   "metadata": {
    "collapsed": true
   },
   "outputs": [],
   "source": [
    "def initialize_map():\n",
    "    map = []\n",
    "    for i in range(CITY_COUNT):\n",
    "        newCity = City()\n",
    "        newCity.set_X(XLocs[i])\n",
    "        newCity.set_Y(YLocs[i])\n",
    "        map.append(newCity)\n",
    "    return map"
   ]
  },
  {
   "cell_type": "code",
   "execution_count": 14,
   "metadata": {
    "collapsed": false
   },
   "outputs": [],
   "source": [
    "def initialize_particles():\n",
    "    particles = []\n",
    "    \n",
    "    for i in range(PARTICLE_COUNT):\n",
    "        newParticle = Particle()\n",
    "        \n",
    "        newParticle.set_data([j for j in range(CITY_COUNT)])\n",
    "        newParticle.set_best(newParticle.get_data())\n",
    "        particles.append(newParticle)\n",
    "        np.random.shuffle(particles)\n",
    "        \n",
    "        get_total_distance(len(particles)-1)\n",
    "    \n",
    "    return particles"
   ]
  },
  {
   "cell_type": "code",
   "execution_count": 16,
   "metadata": {
    "collapsed": true
   },
   "outputs": [],
   "source": [
    "def get_bestfit(particles):\n",
    "    best_index = 0\n",
    "    for i in range(PARTICLE_COUNT):\n",
    "        if particles[i].get_fitness() < particles[best_index].get_fitness():\n",
    "            best_index = i\n",
    "    \n",
    "    return best_index"
   ]
  },
  {
   "cell_type": "code",
   "execution_count": 17,
   "metadata": {
    "collapsed": true
   },
   "outputs": [],
   "source": [
    "def test_problem(index, particles, citymap):\n",
    "    data = particles[index].get_data()\n",
    "    dist_sum = 0\n",
    "    \n",
    "    for i in range(CITY_COUNT):\n",
    "        if i==CITY_COUNT-1:\n",
    "            dist_sum += get_distance(data[CITY_COUNT-1], data[0], citymap)\n",
    "        else:\n",
    "            dist_sum += get_distance(data[i], data[i+1], citymap)\n",
    "    \n",
    "    return dist_sum"
   ]
  },
  {
   "cell_type": "code",
   "execution_count": null,
   "metadata": {
    "collapsed": true
   },
   "outputs": [],
   "source": [
    "def calc_velocity(gBestIndex, particles, citymap):\n",
    "    bestVal = test_problem(gBestIndex, particles, citymap)\n",
    "    for i in range(PARTICLE_COUNT):\n",
    "        velocity = []\n",
    "        "
   ]
  }
 ],
 "metadata": {
  "kernelspec": {
   "display_name": "Python 2",
   "language": "python",
   "name": "python2"
  },
  "language_info": {
   "codemirror_mode": {
    "name": "ipython",
    "version": 2
   },
   "file_extension": ".py",
   "mimetype": "text/x-python",
   "name": "python",
   "nbconvert_exporter": "python",
   "pygments_lexer": "ipython2",
   "version": "2.7.11"
  }
 },
 "nbformat": 4,
 "nbformat_minor": 0
}
