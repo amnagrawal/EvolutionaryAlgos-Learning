{
 "cells": [
  {
   "cell_type": "code",
   "execution_count": 56,
   "metadata": {
    "collapsed": false
   },
   "outputs": [],
   "source": [
    "import random\n",
    "import sys\n",
    "import numpy as np\n",
    "import copy\n",
    "import arff\n",
    "from sklearn.decomposition import PCA\n",
    "from sklearn.preprocessing import Imputer\n",
    "from sklearn import svm\n",
    "from sklearn.cross_validation import KFold\n",
    "import os.path\n",
    "import pickle\n",
    "import json\n",
    "from tqdm import trange"
   ]
  },
  {
   "cell_type": "code",
   "execution_count": 43,
   "metadata": {
    "collapsed": false
   },
   "outputs": [],
   "source": [
    "# Preprocessing data\n",
    "def process_data(data):\n",
    "    imp = Imputer(missing_values='NaN', strategy='mean', axis=1) \n",
    "    data = imp.fit_transform(data)\n",
    "    data = (data - np.mean(data, 0)) / np.std(data, 0) # normalazing data\n",
    "    pca = PCA(n_components=4)\n",
    "    data_reduced = pca.fit_transform(data)\n",
    "    print(pca.explained_variance_ratio_)\n",
    "#     print(data)\n",
    "    return data_reduced"
   ]
  },
  {
   "cell_type": "code",
   "execution_count": 63,
   "metadata": {
    "collapsed": false
   },
   "outputs": [
    {
     "name": "stdout",
     "output_type": "stream",
     "text": [
      "[ 0.61464506  0.09361691  0.07119136  0.06134133]\n"
     ]
    }
   ],
   "source": [
    "# Load data\n",
    "fil = arff.load(open('data/jm1a.arff', 'rb'))\n",
    "data = np.array(fil['data'])\n",
    "# print(data)\n",
    "data = np.array(random.sample(data, 3000))\n",
    "\n",
    "result = data[:, -1]\n",
    "data = data[:, 0:21]\n",
    "data = process_data(data)"
   ]
  },
  {
   "cell_type": "code",
   "execution_count": 45,
   "metadata": {
    "collapsed": false
   },
   "outputs": [],
   "source": [
    "def trainSVM(C, gamma, index):\n",
    "    clf = svm.SVC(C=C, gamma=gamma)\n",
    "    kf = KFold(len(data), n_folds=10, shuffle=True)\n",
    "    means = []\n",
    "    for training, testing in kf:\n",
    "        clf.fit(data[training], result[training])\n",
    "        prediction = clf.predict(data[testing])\n",
    "        curmean = np.mean(prediction == result[testing])\n",
    "        means.append(curmean)\n",
    "    \n",
    "    accuracy = np.mean(means)\n",
    "#     print(\"\\tMean accuracy of particle {}: {:.1%}\".format(index, accuracy))\n",
    "    return accuracy"
   ]
  },
  {
   "cell_type": "code",
   "execution_count": 46,
   "metadata": {
    "collapsed": false
   },
   "outputs": [],
   "source": [
    "#PSO variables\n",
    "NO_OF_INPUTS = 2\n",
    "V_MAX = 180\n",
    "V_MIN = -180\n",
    "MAX_PARTICLES = 20\n",
    "MAX_EPOCHS = 100\n",
    "MAX_RANGE_C = 1000\n",
    "MIN_RANGE_C = 50\n",
    "MAX_RANGE_GAMMA = 100\n",
    "MIN_RANGE_GAMMA = 0.001"
   ]
  },
  {
   "cell_type": "code",
   "execution_count": 47,
   "metadata": {
    "collapsed": true
   },
   "outputs": [],
   "source": [
    "class Particle:\n",
    "    def __init__(self):\n",
    "        self.params = [0] * NO_OF_INPUTS\n",
    "        self.pBest = [0] * NO_OF_INPUTS\n",
    "        self.velocity = [0] * NO_OF_INPUTS\n",
    "        self.bestVal = 0\n",
    "        \n",
    "    def get_params(self):\n",
    "        return self.params\n",
    "\n",
    "    def set_params(self, value):\n",
    "        self.params = value\n",
    "        \n",
    "    def get_pBest(self):\n",
    "        return self.pBest\n",
    "    \n",
    "    def set_pBest(self, value):\n",
    "        self.pBest = value\n",
    "    \n",
    "    def get_velocity(self):\n",
    "        return self.velocity\n",
    "    \n",
    "    def set_velocity(self, value):\n",
    "        self.velocity = value\n",
    "        \n",
    "    def get_bestVal(self):\n",
    "        return self.bestVal\n",
    "    \n",
    "    def set_bestVal(self, value):\n",
    "        self.bestVal = value"
   ]
  },
  {
   "cell_type": "code",
   "execution_count": 61,
   "metadata": {
    "collapsed": false
   },
   "outputs": [],
   "source": [
    "def initialize_particles():\n",
    "    particles = []\n",
    "    for i in trange(MAX_PARTICLES):\n",
    "        newParticle = Particle()\n",
    "        params = []\n",
    "        C = np.random.uniform(MIN_RANGE_C, MAX_RANGE_C)\n",
    "        gamma = np.random.uniform(MIN_RANGE_GAMMA, MAX_RANGE_GAMMA)\n",
    "        params.append(C), params.append(gamma)\n",
    "        newParticle.set_params(params)\n",
    "        newParticle.set_pBest(params)\n",
    "        newParticle.set_bestVal(trainSVM(C=C, gamma=gamma, index=i))\n",
    "        particles.append(copy.deepcopy(newParticle))\n",
    "    return particles"
   ]
  },
  {
   "cell_type": "code",
   "execution_count": 49,
   "metadata": {
    "collapsed": false
   },
   "outputs": [],
   "source": [
    "def max_fitness(particles):\n",
    "    best = 0\n",
    "    for i in range(MAX_PARTICLES):\n",
    "        if particles[i].get_bestVal() > particles[best].get_bestVal():\n",
    "            best = i\n",
    "    \n",
    "    return best"
   ]
  },
  {
   "cell_type": "code",
   "execution_count": 50,
   "metadata": {
    "collapsed": false
   },
   "outputs": [],
   "source": [
    "def calc_velocity(gBestIndex, particles):\n",
    "    gBest = particles[gBestIndex].get_bestVal()\n",
    "    for i in range(MAX_PARTICLES):\n",
    "        velocity = particles[i].get_velocity() + np.multiply(2 * np.random.uniform(), np.subtract(particles[i].get_pBest(), particles[i].get_params()))\n",
    "        velocity = velocity + np.multiply(2 * np.random.uniform(), np.subtract(particles[gBestIndex].get_params(), particles[i].get_params()))\n",
    "        \n",
    "        if velocity[0]>V_MAX:\n",
    "            velocity[0] = V_MAX\n",
    "        elif velocity[0]<V_MIN:\n",
    "            velocity[0] = V_MIN\n",
    "        \n",
    "        particles[i].set_velocity(velocity)\n",
    "    \n",
    "    return particles"
   ]
  },
  {
   "cell_type": "code",
   "execution_count": 58,
   "metadata": {
    "collapsed": false
   },
   "outputs": [],
   "source": [
    "def update_particles(gBestIndex, particles):\n",
    "    for i in trange(MAX_PARTICLES):\n",
    "        params = particles[i].get_params()\n",
    "        temp = particles[gBestIndex].get_params()\n",
    "        vel = particles[i].get_velocity()\n",
    "        for y in range(len(params)):\n",
    "            if params[y] != temp[y]:\n",
    "                params[y] += vel[y]\n",
    "        \n",
    "        if params[0]<0:\n",
    "            params[0]=np.random.uniform(MIN_RANGE_C, 5*(MAX_RANGE_C-MIN_RANGE_C)/100)\n",
    "        \n",
    "        if params[1]<0:\n",
    "            params[1]=np.random.uniform(MIN_RANGE_GAMMA, 5*(MAX_RANGE_GAMMA-MIN_RANGE_GAMMA)/100)\n",
    "        \n",
    "        acc = trainSVM(params[0], params[1], index=i)\n",
    "        if acc>particles[i].get_bestVal():\n",
    "            particles[i].set_pBest(params)\n",
    "            particles[i].set_bestVal(acc)\n",
    "    return particles"
   ]
  },
  {
   "cell_type": "code",
   "execution_count": 64,
   "metadata": {
    "collapsed": false
   },
   "outputs": [],
   "source": [
    "def PSO_algo():\n",
    "    epoch = 1\n",
    "    particles = []\n",
    "    result = []\n",
    "    \n",
    "    random.seed(10)\n",
    "    \n",
    "    if(os.path.isfile('PARTICLES.pk1')):\n",
    "        with open('PARTICLES.pk1', 'r') as ip:\n",
    "            particles = pickle.load(ip)\n",
    "    else:\n",
    "        print(\"Initializing particles:\")\n",
    "        particles = initialize_particles()\n",
    "        \n",
    "    if(os.path.isfile('save_pso_svm.json')):\n",
    "        with open('save_pso_svm.json', 'r') as ip:\n",
    "            open_data = json.load(ip)\n",
    "            epoch = open_data['epoch']\n",
    "    \n",
    "    while epoch<=MAX_EPOCHS:        \n",
    "        gBest = max_fitness(particles)\n",
    "        \n",
    "        print(\"\\nEpoch: \" + str(epoch))\n",
    "        \n",
    "        particles = calc_velocity(gBest, particles)\n",
    "        particles = update_particles(gBest, particles)\n",
    "\n",
    "        print(\"\\tMax accuracy achieved: {:.1%}\".format(particles[gBest].get_bestVal()))\n",
    "        print(\"\\tC={:.10}, gamma={:.10}\".format(particles[gBest].get_params()[0], particles[gBest].get_params()[1]))\n",
    "\n",
    "        with open('PARTICLES.pk1', 'w') as op:\n",
    "            pickle.dump(particles, op, pickle.HIGHEST_PROTOCOL)\n",
    "        \n",
    "        gBest = max_fitness(particles)\n",
    "        #print(\"Best in epoch \" + str(epoch) +\": \" + str(particles[gBest].get_data()))\n",
    "        epoch += 1\n",
    "        \n",
    "        save_data = {}\n",
    "        save_data['epoch'] = epoch\n",
    "        save_data['C'] = particles[gBest].get_params()[0]\n",
    "        save_data['gamma'] = particles[gBest].get_params()[1]\n",
    "        save_data['accuracy'] = particles[gBest].get_bestVal()\n",
    "        with open('save_pso_svm.json', 'w') as fp:\n",
    "            json.dump(save_data, fp, sort_keys=True, indent=4)"
   ]
  },
  {
   "cell_type": "code",
   "execution_count": 65,
   "metadata": {
    "collapsed": false
   },
   "outputs": [
    {
     "name": "stderr",
     "output_type": "stream",
     "text": [
      "100%|██████████| 20/20 [04:53<00:00, 15.13s/it]"
     ]
    },
    {
     "name": "stdout",
     "output_type": "stream",
     "text": [
      "Initializing particles:\n",
      "\n",
      "Epoch: 1"
     ]
    },
    {
     "name": "stderr",
     "output_type": "stream",
     "text": [
      "\n",
      "100%|██████████| 20/20 [15:05<00:00, 75.22s/it]"
     ]
    },
    {
     "name": "stdout",
     "output_type": "stream",
     "text": [
      "\n",
      "\tMax accuracy achieved: 78.5%"
     ]
    },
    {
     "name": "stderr",
     "output_type": "stream",
     "text": [
      "\n",
      "100%|██████████| 20/20 [18:36<00:00, 69.73s/it]"
     ]
    },
    {
     "name": "stdout",
     "output_type": "stream",
     "text": [
      "\n",
      "\tC=151.8101469, gamma=5.58563229\n",
      "\n",
      "Epoch: 2\n",
      "\tMax accuracy achieved: 81.0%"
     ]
    },
    {
     "name": "stderr",
     "output_type": "stream",
     "text": [
      "\n",
      "100%|██████████| 20/20 [22:26<00:00, 74.76s/it]"
     ]
    },
    {
     "name": "stdout",
     "output_type": "stream",
     "text": [
      "\n",
      "\tC=97.24912732, gamma=0.3497204571\n",
      "\n",
      "Epoch: 3\n",
      "\tMax accuracy achieved: 81.3%"
     ]
    },
    {
     "name": "stderr",
     "output_type": "stream",
     "text": [
      "\n",
      "100%|██████████| 20/20 [18:24<00:00, 57.76s/it]"
     ]
    },
    {
     "name": "stdout",
     "output_type": "stream",
     "text": [
      "\n",
      "\tC=524.8330153, gamma=0.2198395987\n",
      "\n",
      "Epoch: 4\n",
      "\tMax accuracy achieved: 81.6%"
     ]
    },
    {
     "name": "stderr",
     "output_type": "stream",
     "text": [
      "\n",
      "100%|██████████| 20/20 [09:14<00:00, 24.04s/it]"
     ]
    },
    {
     "name": "stdout",
     "output_type": "stream",
     "text": [
      "\n",
      "\tC=48.05615534, gamma=0.003258894118\n",
      "\n",
      "Epoch: 5\n",
      "\tMax accuracy achieved: 81.6%"
     ]
    },
    {
     "name": "stderr",
     "output_type": "stream",
     "text": [
      "\n",
      "100%|██████████| 20/20 [07:44<00:00, 27.30s/it]"
     ]
    },
    {
     "name": "stdout",
     "output_type": "stream",
     "text": [
      "\n",
      "\tC=48.05615534, gamma=0.003258894118\n",
      "\n",
      "Epoch: 6\n",
      "\tMax accuracy achieved: 81.6%"
     ]
    },
    {
     "name": "stderr",
     "output_type": "stream",
     "text": [
      "\n",
      "100%|██████████| 20/20 [07:30<00:00, 22.35s/it]"
     ]
    },
    {
     "name": "stdout",
     "output_type": "stream",
     "text": [
      "\n",
      "\tC=48.05615534, gamma=0.003258894118\n",
      "\n",
      "Epoch: 7\n",
      "\tMax accuracy achieved: 81.6%"
     ]
    },
    {
     "name": "stderr",
     "output_type": "stream",
     "text": [
      "\n",
      "100%|██████████| 20/20 [08:02<00:00, 24.48s/it]"
     ]
    },
    {
     "name": "stdout",
     "output_type": "stream",
     "text": [
      "\n",
      "\tC=48.05615534, gamma=0.003258894118\n",
      "\n",
      "Epoch: 8\n",
      "\tMax accuracy achieved: 81.6%"
     ]
    },
    {
     "name": "stderr",
     "output_type": "stream",
     "text": [
      "\n",
      "100%|██████████| 20/20 [07:49<00:00, 25.13s/it]"
     ]
    },
    {
     "name": "stdout",
     "output_type": "stream",
     "text": [
      "\n",
      "\tC=48.05615534, gamma=0.003258894118\n",
      "\n",
      "Epoch: 9\n",
      "\tMax accuracy achieved: 81.7%"
     ]
    },
    {
     "name": "stderr",
     "output_type": "stream",
     "text": [
      "\n",
      "100%|██████████| 20/20 [07:51<00:00, 23.78s/it]"
     ]
    },
    {
     "name": "stdout",
     "output_type": "stream",
     "text": [
      "\n",
      "\tC=48.05615534, gamma=0.003258894118\n",
      "\n",
      "Epoch: 10\n",
      "\tMax accuracy achieved: 81.7%"
     ]
    },
    {
     "name": "stderr",
     "output_type": "stream",
     "text": [
      "\n",
      "100%|██████████| 20/20 [08:11<00:00, 26.61s/it]"
     ]
    },
    {
     "name": "stdout",
     "output_type": "stream",
     "text": [
      "\n",
      "\tC=48.05615534, gamma=0.003258894118\n",
      "\n",
      "Epoch: 11\n",
      "\tMax accuracy achieved: 81.7%"
     ]
    },
    {
     "name": "stderr",
     "output_type": "stream",
     "text": [
      "\n",
      "100%|██████████| 20/20 [08:08<00:00, 24.43s/it]"
     ]
    },
    {
     "name": "stdout",
     "output_type": "stream",
     "text": [
      "\n",
      "\tC=48.05615534, gamma=0.003258894118\n",
      "\n",
      "Epoch: 12\n",
      "\tMax accuracy achieved: 81.7%"
     ]
    },
    {
     "name": "stderr",
     "output_type": "stream",
     "text": [
      "\n",
      "100%|██████████| 20/20 [08:00<00:00, 24.99s/it]"
     ]
    },
    {
     "name": "stdout",
     "output_type": "stream",
     "text": [
      "\n",
      "\tC=48.05615534, gamma=0.003258894118\n",
      "\n",
      "Epoch: 13\n",
      "\tMax accuracy achieved: 81.7%"
     ]
    },
    {
     "name": "stderr",
     "output_type": "stream",
     "text": [
      "\n",
      "100%|██████████| 20/20 [08:19<00:00, 25.19s/it]"
     ]
    },
    {
     "name": "stdout",
     "output_type": "stream",
     "text": [
      "\n",
      "\tC=48.05615534, gamma=0.003258894118\n",
      "\n",
      "Epoch: 14\n",
      "\tMax accuracy achieved: 81.7%"
     ]
    },
    {
     "name": "stderr",
     "output_type": "stream",
     "text": [
      "\n",
      "100%|██████████| 20/20 [08:04<00:00, 25.28s/it]"
     ]
    },
    {
     "name": "stdout",
     "output_type": "stream",
     "text": [
      "\n",
      "\tC=48.05615534, gamma=0.003258894118\n",
      "\n",
      "Epoch: 15\n",
      "\tMax accuracy achieved: 81.7%"
     ]
    },
    {
     "name": "stderr",
     "output_type": "stream",
     "text": [
      "\n",
      "100%|██████████| 20/20 [07:36<00:00, 22.09s/it]"
     ]
    },
    {
     "name": "stdout",
     "output_type": "stream",
     "text": [
      "\n",
      "\tC=48.05615534, gamma=0.003258894118\n",
      "\n",
      "Epoch: 16\n",
      "\tMax accuracy achieved: 81.7%"
     ]
    },
    {
     "name": "stderr",
     "output_type": "stream",
     "text": [
      "\n",
      "100%|██████████| 20/20 [07:35<00:00, 22.10s/it]"
     ]
    },
    {
     "name": "stdout",
     "output_type": "stream",
     "text": [
      "\n",
      "\tC=48.05615534, gamma=0.003258894118\n",
      "\n",
      "Epoch: 17\n",
      "\tMax accuracy achieved: 81.7%"
     ]
    },
    {
     "name": "stderr",
     "output_type": "stream",
     "text": [
      "\n",
      "100%|██████████| 20/20 [07:39<00:00, 23.79s/it]"
     ]
    },
    {
     "name": "stdout",
     "output_type": "stream",
     "text": [
      "\n",
      "\tC=48.05615534, gamma=0.003258894118\n",
      "\n",
      "Epoch: 18\n",
      "\tMax accuracy achieved: 81.7%"
     ]
    },
    {
     "name": "stderr",
     "output_type": "stream",
     "text": [
      "\n",
      "100%|██████████| 20/20 [08:03<00:00, 25.49s/it]"
     ]
    },
    {
     "name": "stdout",
     "output_type": "stream",
     "text": [
      "\n",
      "\tC=48.05615534, gamma=0.003258894118\n",
      "\n",
      "Epoch: 19\n",
      "\tMax accuracy achieved: 81.7%"
     ]
    },
    {
     "name": "stderr",
     "output_type": "stream",
     "text": [
      "\n",
      "100%|██████████| 20/20 [07:58<00:00, 25.58s/it]"
     ]
    },
    {
     "name": "stdout",
     "output_type": "stream",
     "text": [
      "\n",
      "\tC=48.05615534, gamma=0.003258894118\n",
      "\n",
      "Epoch: 20\n",
      "\tMax accuracy achieved: 81.7%"
     ]
    },
    {
     "name": "stderr",
     "output_type": "stream",
     "text": [
      "\n",
      "100%|██████████| 20/20 [08:05<00:00, 24.13s/it]"
     ]
    },
    {
     "name": "stdout",
     "output_type": "stream",
     "text": [
      "\n",
      "\tC=48.05615534, gamma=0.003258894118\n",
      "\n",
      "Epoch: 21\n",
      "\tMax accuracy achieved: 81.7%"
     ]
    },
    {
     "name": "stderr",
     "output_type": "stream",
     "text": [
      "\n",
      "100%|██████████| 20/20 [07:57<00:00, 24.94s/it]"
     ]
    },
    {
     "name": "stdout",
     "output_type": "stream",
     "text": [
      "\n",
      "\tC=48.05615534, gamma=0.003258894118\n",
      "\n",
      "Epoch: 22\n",
      "\tMax accuracy achieved: 81.7%"
     ]
    },
    {
     "name": "stderr",
     "output_type": "stream",
     "text": [
      "\n",
      "100%|██████████| 20/20 [07:35<00:00, 23.68s/it]"
     ]
    },
    {
     "name": "stdout",
     "output_type": "stream",
     "text": [
      "\n",
      "\tC=48.05615534, gamma=0.003258894118\n",
      "\n",
      "Epoch: 23\n",
      "\tMax accuracy achieved: 81.7%"
     ]
    },
    {
     "name": "stderr",
     "output_type": "stream",
     "text": [
      "\n",
      "100%|██████████| 20/20 [08:08<00:00, 25.11s/it]"
     ]
    },
    {
     "name": "stdout",
     "output_type": "stream",
     "text": [
      "\n",
      "\tC=48.05615534, gamma=0.003258894118\n",
      "\n",
      "Epoch: 24\n",
      "\tMax accuracy achieved: 81.7%"
     ]
    },
    {
     "name": "stderr",
     "output_type": "stream",
     "text": [
      "\n",
      "100%|██████████| 20/20 [07:37<00:00, 25.04s/it]"
     ]
    },
    {
     "name": "stdout",
     "output_type": "stream",
     "text": [
      "\n",
      "\tC=48.05615534, gamma=0.003258894118\n",
      "\n",
      "Epoch: 25\n",
      "\tMax accuracy achieved: 81.7%"
     ]
    },
    {
     "name": "stderr",
     "output_type": "stream",
     "text": [
      "\n",
      "100%|██████████| 20/20 [07:46<00:00, 24.08s/it]"
     ]
    },
    {
     "name": "stdout",
     "output_type": "stream",
     "text": [
      "\n",
      "\tC=48.05615534, gamma=0.003258894118\n",
      "\n",
      "Epoch: 26\n",
      "\tMax accuracy achieved: 81.7%"
     ]
    },
    {
     "name": "stderr",
     "output_type": "stream",
     "text": [
      "\n",
      "100%|██████████| 20/20 [07:50<00:00, 22.89s/it]"
     ]
    },
    {
     "name": "stdout",
     "output_type": "stream",
     "text": [
      "\n",
      "\tC=48.05615534, gamma=0.003258894118\n",
      "\n",
      "Epoch: 27\n",
      "\tMax accuracy achieved: 81.7%"
     ]
    },
    {
     "name": "stderr",
     "output_type": "stream",
     "text": [
      "\n",
      "100%|██████████| 20/20 [08:47<00:00, 27.92s/it]"
     ]
    },
    {
     "name": "stdout",
     "output_type": "stream",
     "text": [
      "\n",
      "\tC=48.05615534, gamma=0.003258894118\n",
      "\n",
      "Epoch: 28\n",
      "\tMax accuracy achieved: 81.7%"
     ]
    },
    {
     "name": "stderr",
     "output_type": "stream",
     "text": [
      "\n",
      "100%|██████████| 20/20 [08:02<00:00, 25.41s/it]"
     ]
    },
    {
     "name": "stdout",
     "output_type": "stream",
     "text": [
      "\n",
      "\tC=48.05615534, gamma=0.003258894118\n",
      "\n",
      "Epoch: 29\n",
      "\tMax accuracy achieved: 81.7%"
     ]
    },
    {
     "name": "stderr",
     "output_type": "stream",
     "text": [
      "\n",
      "100%|██████████| 20/20 [08:47<00:00, 29.78s/it]"
     ]
    },
    {
     "name": "stdout",
     "output_type": "stream",
     "text": [
      "\n",
      "\tC=48.05615534, gamma=0.003258894118\n",
      "\n",
      "Epoch: 30\n",
      "\tMax accuracy achieved: 81.7%"
     ]
    },
    {
     "name": "stderr",
     "output_type": "stream",
     "text": [
      "\n",
      "100%|██████████| 20/20 [08:41<00:00, 27.46s/it]"
     ]
    },
    {
     "name": "stdout",
     "output_type": "stream",
     "text": [
      "\n",
      "\tC=48.05615534, gamma=0.003258894118\n",
      "\n",
      "Epoch: 31\n",
      "\tMax accuracy achieved: 81.7%"
     ]
    },
    {
     "name": "stderr",
     "output_type": "stream",
     "text": [
      "\n",
      "100%|██████████| 20/20 [08:24<00:00, 26.62s/it]"
     ]
    },
    {
     "name": "stdout",
     "output_type": "stream",
     "text": [
      "\n",
      "\tC=48.05615534, gamma=0.003258894118\n",
      "\n",
      "Epoch: 32\n",
      "\tMax accuracy achieved: 81.7%"
     ]
    },
    {
     "name": "stderr",
     "output_type": "stream",
     "text": [
      "\n",
      "100%|██████████| 20/20 [08:31<00:00, 22.95s/it]"
     ]
    },
    {
     "name": "stdout",
     "output_type": "stream",
     "text": [
      "\n",
      "\tC=48.05615534, gamma=0.003258894118\n",
      "\n",
      "Epoch: 33\n",
      "\tMax accuracy achieved: 81.7%"
     ]
    },
    {
     "name": "stderr",
     "output_type": "stream",
     "text": [
      "\n",
      "100%|██████████| 20/20 [08:35<00:00, 29.54s/it]"
     ]
    },
    {
     "name": "stdout",
     "output_type": "stream",
     "text": [
      "\n",
      "\tC=48.05615534, gamma=0.003258894118\n",
      "\n",
      "Epoch: 34\n",
      "\tMax accuracy achieved: 81.7%"
     ]
    },
    {
     "name": "stderr",
     "output_type": "stream",
     "text": [
      "\n",
      "100%|██████████| 20/20 [08:55<00:00, 27.86s/it]"
     ]
    },
    {
     "name": "stdout",
     "output_type": "stream",
     "text": [
      "\n",
      "\tC=48.05615534, gamma=0.003258894118\n",
      "\n",
      "Epoch: 35\n",
      "\tMax accuracy achieved: 81.7%"
     ]
    },
    {
     "name": "stderr",
     "output_type": "stream",
     "text": [
      "\n",
      "100%|██████████| 20/20 [08:04<00:00, 27.81s/it]"
     ]
    },
    {
     "name": "stdout",
     "output_type": "stream",
     "text": [
      "\n",
      "\tC=48.05615534, gamma=0.003258894118\n",
      "\n",
      "Epoch: 36\n",
      "\tMax accuracy achieved: 81.7%"
     ]
    },
    {
     "name": "stderr",
     "output_type": "stream",
     "text": [
      "\n",
      "100%|██████████| 20/20 [08:27<00:00, 27.55s/it]"
     ]
    },
    {
     "name": "stdout",
     "output_type": "stream",
     "text": [
      "\n",
      "\tC=48.05615534, gamma=0.003258894118\n",
      "\n",
      "Epoch: 37\n",
      "\tMax accuracy achieved: 81.7%"
     ]
    },
    {
     "name": "stderr",
     "output_type": "stream",
     "text": [
      "\n",
      "100%|██████████| 20/20 [08:54<00:00, 26.27s/it]"
     ]
    },
    {
     "name": "stdout",
     "output_type": "stream",
     "text": [
      "\n",
      "\tC=48.05615534, gamma=0.003258894118\n",
      "\n",
      "Epoch: 38\n",
      "\tMax accuracy achieved: 81.7%"
     ]
    },
    {
     "name": "stderr",
     "output_type": "stream",
     "text": [
      "\n",
      "100%|██████████| 20/20 [08:08<00:00, 27.04s/it]"
     ]
    },
    {
     "name": "stdout",
     "output_type": "stream",
     "text": [
      "\n",
      "\tC=48.05615534, gamma=0.003258894118\n",
      "\n",
      "Epoch: 39\n",
      "\tMax accuracy achieved: 81.7%"
     ]
    },
    {
     "name": "stderr",
     "output_type": "stream",
     "text": [
      "\n",
      "100%|██████████| 20/20 [08:17<00:00, 26.00s/it]"
     ]
    },
    {
     "name": "stdout",
     "output_type": "stream",
     "text": [
      "\n",
      "\tC=48.05615534, gamma=0.003258894118\n",
      "\n",
      "Epoch: 40\n",
      "\tMax accuracy achieved: 81.7%"
     ]
    },
    {
     "name": "stderr",
     "output_type": "stream",
     "text": [
      "\n",
      "100%|██████████| 20/20 [08:01<00:00, 26.42s/it]"
     ]
    },
    {
     "name": "stdout",
     "output_type": "stream",
     "text": [
      "\n",
      "\tC=48.05615534, gamma=0.003258894118\n",
      "\n",
      "Epoch: 41\n",
      "\tMax accuracy achieved: 81.7%"
     ]
    },
    {
     "name": "stderr",
     "output_type": "stream",
     "text": [
      "\n",
      "100%|██████████| 20/20 [08:29<00:00, 24.62s/it]"
     ]
    },
    {
     "name": "stdout",
     "output_type": "stream",
     "text": [
      "\n",
      "\tC=48.05615534, gamma=0.003258894118\n",
      "\n",
      "Epoch: 42\n",
      "\tMax accuracy achieved: 81.7%"
     ]
    },
    {
     "name": "stderr",
     "output_type": "stream",
     "text": [
      "\n",
      "100%|██████████| 20/20 [08:10<00:00, 24.54s/it]"
     ]
    },
    {
     "name": "stdout",
     "output_type": "stream",
     "text": [
      "\n",
      "\tC=48.05615534, gamma=0.003258894118\n",
      "\n",
      "Epoch: 43\n",
      "\tMax accuracy achieved: 81.7%"
     ]
    },
    {
     "name": "stderr",
     "output_type": "stream",
     "text": [
      "\n",
      "100%|██████████| 20/20 [08:26<00:00, 29.56s/it]"
     ]
    },
    {
     "name": "stdout",
     "output_type": "stream",
     "text": [
      "\n",
      "\tC=48.05615534, gamma=0.003258894118\n",
      "\n",
      "Epoch: 44\n",
      "\tMax accuracy achieved: 81.7%"
     ]
    },
    {
     "name": "stderr",
     "output_type": "stream",
     "text": [
      "\n",
      "100%|██████████| 20/20 [09:03<00:00, 32.33s/it]"
     ]
    },
    {
     "name": "stdout",
     "output_type": "stream",
     "text": [
      "\n",
      "\tC=48.05615534, gamma=0.003258894118\n",
      "\n",
      "Epoch: 45\n",
      "\tMax accuracy achieved: 81.7%"
     ]
    },
    {
     "name": "stderr",
     "output_type": "stream",
     "text": [
      "\n",
      "100%|██████████| 20/20 [08:08<00:00, 24.38s/it]"
     ]
    },
    {
     "name": "stdout",
     "output_type": "stream",
     "text": [
      "\n",
      "\tC=48.05615534, gamma=0.003258894118\n",
      "\n",
      "Epoch: 46\n",
      "\tMax accuracy achieved: 81.7%"
     ]
    },
    {
     "name": "stderr",
     "output_type": "stream",
     "text": [
      "\n",
      "100%|██████████| 20/20 [08:48<00:00, 26.87s/it]"
     ]
    },
    {
     "name": "stdout",
     "output_type": "stream",
     "text": [
      "\n",
      "\tC=48.05615534, gamma=0.003258894118\n",
      "\n",
      "Epoch: 47\n",
      "\tMax accuracy achieved: 81.7%"
     ]
    },
    {
     "name": "stderr",
     "output_type": "stream",
     "text": [
      "\n",
      "100%|██████████| 20/20 [07:49<00:00, 24.59s/it]"
     ]
    },
    {
     "name": "stdout",
     "output_type": "stream",
     "text": [
      "\n",
      "\tC=48.05615534, gamma=0.003258894118\n",
      "\n",
      "Epoch: 48\n",
      "\tMax accuracy achieved: 81.7%"
     ]
    },
    {
     "name": "stderr",
     "output_type": "stream",
     "text": [
      "\n",
      "100%|██████████| 20/20 [07:49<00:00, 25.05s/it]"
     ]
    },
    {
     "name": "stdout",
     "output_type": "stream",
     "text": [
      "\n",
      "\tC=48.05615534, gamma=0.003258894118\n",
      "\n",
      "Epoch: 49\n",
      "\tMax accuracy achieved: 81.7%"
     ]
    },
    {
     "name": "stderr",
     "output_type": "stream",
     "text": [
      "\n",
      "100%|██████████| 20/20 [07:35<00:00, 23.88s/it]"
     ]
    },
    {
     "name": "stdout",
     "output_type": "stream",
     "text": [
      "\n",
      "\tC=48.05615534, gamma=0.003258894118\n",
      "\n",
      "Epoch: 50\n",
      "\tMax accuracy achieved: 81.7%"
     ]
    },
    {
     "name": "stderr",
     "output_type": "stream",
     "text": [
      "\n",
      "100%|██████████| 20/20 [07:39<00:00, 19.95s/it]"
     ]
    },
    {
     "name": "stdout",
     "output_type": "stream",
     "text": [
      "\n",
      "\tC=48.05615534, gamma=0.003258894118\n",
      "\n",
      "Epoch: 51\n",
      "\tMax accuracy achieved: 81.7%"
     ]
    },
    {
     "name": "stderr",
     "output_type": "stream",
     "text": [
      "\n",
      "100%|██████████| 20/20 [08:01<00:00, 25.45s/it]"
     ]
    },
    {
     "name": "stdout",
     "output_type": "stream",
     "text": [
      "\n",
      "\tC=48.05615534, gamma=0.003258894118\n",
      "\n",
      "Epoch: 52\n",
      "\tMax accuracy achieved: 81.7%"
     ]
    },
    {
     "name": "stderr",
     "output_type": "stream",
     "text": [
      "\n",
      "100%|██████████| 20/20 [07:38<00:00, 25.26s/it]"
     ]
    },
    {
     "name": "stdout",
     "output_type": "stream",
     "text": [
      "\n",
      "\tC=48.05615534, gamma=0.003258894118\n",
      "\n",
      "Epoch: 53\n",
      "\tMax accuracy achieved: 81.7%"
     ]
    },
    {
     "name": "stderr",
     "output_type": "stream",
     "text": [
      "\n",
      "100%|██████████| 20/20 [08:03<00:00, 25.84s/it]"
     ]
    },
    {
     "name": "stdout",
     "output_type": "stream",
     "text": [
      "\n",
      "\tC=48.05615534, gamma=0.003258894118\n",
      "\n",
      "Epoch: 54\n",
      "\tMax accuracy achieved: 81.7%"
     ]
    },
    {
     "name": "stderr",
     "output_type": "stream",
     "text": [
      "\n",
      "100%|██████████| 20/20 [08:24<00:00, 26.67s/it]"
     ]
    },
    {
     "name": "stdout",
     "output_type": "stream",
     "text": [
      "\n",
      "\tC=48.05615534, gamma=0.003258894118\n",
      "\n",
      "Epoch: 55\n",
      "\tMax accuracy achieved: 81.7%"
     ]
    },
    {
     "name": "stderr",
     "output_type": "stream",
     "text": [
      "\n",
      "100%|██████████| 20/20 [08:22<00:00, 27.38s/it]"
     ]
    },
    {
     "name": "stdout",
     "output_type": "stream",
     "text": [
      "\n",
      "\tC=48.05615534, gamma=0.003258894118\n",
      "\n",
      "Epoch: 56\n",
      "\tMax accuracy achieved: 81.7%"
     ]
    },
    {
     "name": "stderr",
     "output_type": "stream",
     "text": [
      "\n",
      "100%|██████████| 20/20 [07:56<00:00, 24.97s/it]"
     ]
    },
    {
     "name": "stdout",
     "output_type": "stream",
     "text": [
      "\n",
      "\tC=48.05615534, gamma=0.003258894118\n",
      "\n",
      "Epoch: 57\n",
      "\tMax accuracy achieved: 81.7%"
     ]
    },
    {
     "name": "stderr",
     "output_type": "stream",
     "text": [
      "\n",
      "100%|██████████| 20/20 [07:42<00:00, 19.82s/it]"
     ]
    },
    {
     "name": "stdout",
     "output_type": "stream",
     "text": [
      "\n",
      "\tC=48.05615534, gamma=0.003258894118\n",
      "\n",
      "Epoch: 58\n",
      "\tMax accuracy achieved: 81.7%"
     ]
    },
    {
     "name": "stderr",
     "output_type": "stream",
     "text": [
      "\n",
      "100%|██████████| 20/20 [07:52<00:00, 23.20s/it]"
     ]
    },
    {
     "name": "stdout",
     "output_type": "stream",
     "text": [
      "\n",
      "\tC=48.05615534, gamma=0.003258894118\n",
      "\n",
      "Epoch: 59\n",
      "\tMax accuracy achieved: 81.7%"
     ]
    },
    {
     "name": "stderr",
     "output_type": "stream",
     "text": [
      "\n",
      "100%|██████████| 20/20 [08:49<00:00, 28.50s/it]"
     ]
    },
    {
     "name": "stdout",
     "output_type": "stream",
     "text": [
      "\n",
      "\tC=48.05615534, gamma=0.003258894118\n",
      "\n",
      "Epoch: 60\n",
      "\tMax accuracy achieved: 81.7%"
     ]
    },
    {
     "name": "stderr",
     "output_type": "stream",
     "text": [
      "\n",
      "100%|██████████| 20/20 [08:33<00:00, 26.63s/it]"
     ]
    },
    {
     "name": "stdout",
     "output_type": "stream",
     "text": [
      "\n",
      "\tC=48.05615534, gamma=0.003258894118\n",
      "\n",
      "Epoch: 61\n",
      "\tMax accuracy achieved: 81.7%"
     ]
    },
    {
     "name": "stderr",
     "output_type": "stream",
     "text": [
      "\n",
      "100%|██████████| 20/20 [07:45<00:00, 22.90s/it]"
     ]
    },
    {
     "name": "stdout",
     "output_type": "stream",
     "text": [
      "\n",
      "\tC=48.05615534, gamma=0.003258894118\n",
      "\n",
      "Epoch: 62\n",
      "\tMax accuracy achieved: 81.7%"
     ]
    },
    {
     "name": "stderr",
     "output_type": "stream",
     "text": [
      "\n",
      "100%|██████████| 20/20 [08:39<00:00, 24.85s/it]"
     ]
    },
    {
     "name": "stdout",
     "output_type": "stream",
     "text": [
      "\n",
      "\tC=48.05615534, gamma=0.003258894118\n",
      "\n",
      "Epoch: 63\n",
      "\tMax accuracy achieved: 81.7%"
     ]
    },
    {
     "name": "stderr",
     "output_type": "stream",
     "text": [
      "\n",
      "100%|██████████| 20/20 [07:28<00:00, 23.92s/it]"
     ]
    },
    {
     "name": "stdout",
     "output_type": "stream",
     "text": [
      "\n",
      "\tC=48.05615534, gamma=0.003258894118\n",
      "\n",
      "Epoch: 64\n",
      "\tMax accuracy achieved: 81.7%"
     ]
    },
    {
     "name": "stderr",
     "output_type": "stream",
     "text": [
      "\n",
      "100%|██████████| 20/20 [08:14<00:00, 25.72s/it]"
     ]
    },
    {
     "name": "stdout",
     "output_type": "stream",
     "text": [
      "\n",
      "\tC=48.05615534, gamma=0.003258894118\n",
      "\n",
      "Epoch: 65\n",
      "\tMax accuracy achieved: 81.7%"
     ]
    },
    {
     "name": "stderr",
     "output_type": "stream",
     "text": [
      "\n",
      "100%|██████████| 20/20 [08:06<00:00, 26.66s/it]"
     ]
    },
    {
     "name": "stdout",
     "output_type": "stream",
     "text": [
      "\n",
      "\tC=48.05615534, gamma=0.003258894118\n",
      "\n",
      "Epoch: 66\n",
      "\tMax accuracy achieved: 81.7%"
     ]
    },
    {
     "name": "stderr",
     "output_type": "stream",
     "text": [
      "\n",
      "100%|██████████| 20/20 [08:17<00:00, 30.49s/it]"
     ]
    },
    {
     "name": "stdout",
     "output_type": "stream",
     "text": [
      "\n",
      "\tC=48.05615534, gamma=0.003258894118\n",
      "\n",
      "Epoch: 67\n",
      "\tMax accuracy achieved: 81.7%"
     ]
    },
    {
     "name": "stderr",
     "output_type": "stream",
     "text": [
      "\n",
      "100%|██████████| 20/20 [10:34<00:00, 33.16s/it]"
     ]
    },
    {
     "name": "stdout",
     "output_type": "stream",
     "text": [
      "\n",
      "\tC=48.05615534, gamma=0.003258894118\n",
      "\n",
      "Epoch: 68\n",
      "\tMax accuracy achieved: 81.7%"
     ]
    },
    {
     "name": "stderr",
     "output_type": "stream",
     "text": [
      "\n",
      "100%|██████████| 20/20 [09:54<00:00, 33.31s/it]"
     ]
    },
    {
     "name": "stdout",
     "output_type": "stream",
     "text": [
      "\n",
      "\tC=48.05615534, gamma=0.003258894118\n",
      "\n",
      "Epoch: 69\n",
      "\tMax accuracy achieved: 81.7%"
     ]
    },
    {
     "name": "stderr",
     "output_type": "stream",
     "text": [
      "\n",
      " 90%|█████████ | 18/20 [08:10<00:49, 24.73s/it]"
     ]
    },
    {
     "name": "stdout",
     "output_type": "stream",
     "text": [
      "\n",
      "\tC=48.05615534, gamma=0.003258894118\n",
      "\n",
      "Epoch: 70\n"
     ]
    },
    {
     "name": "stderr",
     "output_type": "stream",
     "text": [
      "\n"
     ]
    },
    {
     "ename": "KeyboardInterrupt",
     "evalue": "",
     "output_type": "error",
     "traceback": [
      "\u001b[1;31m---------------------------------------------------------------------------\u001b[0m",
      "\u001b[1;31mKeyboardInterrupt\u001b[0m                         Traceback (most recent call last)",
      "\u001b[1;32m<ipython-input-65-41db82a60139>\u001b[0m in \u001b[0;36m<module>\u001b[1;34m()\u001b[0m\n\u001b[1;32m----> 1\u001b[1;33m \u001b[0mPSO_algo\u001b[0m\u001b[1;33m(\u001b[0m\u001b[1;33m)\u001b[0m\u001b[1;33m\u001b[0m\u001b[0m\n\u001b[0m\u001b[0;32m      2\u001b[0m \u001b[1;31m# a = [1, 2, 3]\u001b[0m\u001b[1;33m\u001b[0m\u001b[1;33m\u001b[0m\u001b[0m\n\u001b[0;32m      3\u001b[0m \u001b[1;31m# print(np.multiply(2,a))\u001b[0m\u001b[1;33m\u001b[0m\u001b[1;33m\u001b[0m\u001b[0m\n",
      "\u001b[1;32m<ipython-input-64-a1d4536e6b21>\u001b[0m in \u001b[0;36mPSO_algo\u001b[1;34m()\u001b[0m\n\u001b[0;32m     24\u001b[0m \u001b[1;33m\u001b[0m\u001b[0m\n\u001b[0;32m     25\u001b[0m         \u001b[0mparticles\u001b[0m \u001b[1;33m=\u001b[0m \u001b[0mcalc_velocity\u001b[0m\u001b[1;33m(\u001b[0m\u001b[0mgBest\u001b[0m\u001b[1;33m,\u001b[0m \u001b[0mparticles\u001b[0m\u001b[1;33m)\u001b[0m\u001b[1;33m\u001b[0m\u001b[0m\n\u001b[1;32m---> 26\u001b[1;33m         \u001b[0mparticles\u001b[0m \u001b[1;33m=\u001b[0m \u001b[0mupdate_particles\u001b[0m\u001b[1;33m(\u001b[0m\u001b[0mgBest\u001b[0m\u001b[1;33m,\u001b[0m \u001b[0mparticles\u001b[0m\u001b[1;33m)\u001b[0m\u001b[1;33m\u001b[0m\u001b[0m\n\u001b[0m\u001b[0;32m     27\u001b[0m \u001b[1;33m\u001b[0m\u001b[0m\n\u001b[0;32m     28\u001b[0m         \u001b[1;32mprint\u001b[0m\u001b[1;33m(\u001b[0m\u001b[1;34m\"\\tMax accuracy achieved: {:.1%}\"\u001b[0m\u001b[1;33m.\u001b[0m\u001b[0mformat\u001b[0m\u001b[1;33m(\u001b[0m\u001b[0mparticles\u001b[0m\u001b[1;33m[\u001b[0m\u001b[0mgBest\u001b[0m\u001b[1;33m]\u001b[0m\u001b[1;33m.\u001b[0m\u001b[0mget_bestVal\u001b[0m\u001b[1;33m(\u001b[0m\u001b[1;33m)\u001b[0m\u001b[1;33m)\u001b[0m\u001b[1;33m)\u001b[0m\u001b[1;33m\u001b[0m\u001b[0m\n",
      "\u001b[1;32m<ipython-input-58-eb1fbe4806c4>\u001b[0m in \u001b[0;36mupdate_particles\u001b[1;34m(gBestIndex, particles)\u001b[0m\n\u001b[0;32m     14\u001b[0m             \u001b[0mparams\u001b[0m\u001b[1;33m[\u001b[0m\u001b[1;36m1\u001b[0m\u001b[1;33m]\u001b[0m\u001b[1;33m=\u001b[0m\u001b[0mnp\u001b[0m\u001b[1;33m.\u001b[0m\u001b[0mrandom\u001b[0m\u001b[1;33m.\u001b[0m\u001b[0muniform\u001b[0m\u001b[1;33m(\u001b[0m\u001b[0mMIN_RANGE_GAMMA\u001b[0m\u001b[1;33m,\u001b[0m \u001b[1;36m5\u001b[0m\u001b[1;33m*\u001b[0m\u001b[1;33m(\u001b[0m\u001b[0mMAX_RANGE_GAMMA\u001b[0m\u001b[1;33m-\u001b[0m\u001b[0mMIN_RANGE_GAMMA\u001b[0m\u001b[1;33m)\u001b[0m\u001b[1;33m/\u001b[0m\u001b[1;36m100\u001b[0m\u001b[1;33m)\u001b[0m\u001b[1;33m\u001b[0m\u001b[0m\n\u001b[0;32m     15\u001b[0m \u001b[1;33m\u001b[0m\u001b[0m\n\u001b[1;32m---> 16\u001b[1;33m         \u001b[0macc\u001b[0m \u001b[1;33m=\u001b[0m \u001b[0mtrainSVM\u001b[0m\u001b[1;33m(\u001b[0m\u001b[0mparams\u001b[0m\u001b[1;33m[\u001b[0m\u001b[1;36m0\u001b[0m\u001b[1;33m]\u001b[0m\u001b[1;33m,\u001b[0m \u001b[0mparams\u001b[0m\u001b[1;33m[\u001b[0m\u001b[1;36m1\u001b[0m\u001b[1;33m]\u001b[0m\u001b[1;33m,\u001b[0m \u001b[0mindex\u001b[0m\u001b[1;33m=\u001b[0m\u001b[0mi\u001b[0m\u001b[1;33m)\u001b[0m\u001b[1;33m\u001b[0m\u001b[0m\n\u001b[0m\u001b[0;32m     17\u001b[0m         \u001b[1;32mif\u001b[0m \u001b[0macc\u001b[0m\u001b[1;33m>\u001b[0m\u001b[0mparticles\u001b[0m\u001b[1;33m[\u001b[0m\u001b[0mi\u001b[0m\u001b[1;33m]\u001b[0m\u001b[1;33m.\u001b[0m\u001b[0mget_bestVal\u001b[0m\u001b[1;33m(\u001b[0m\u001b[1;33m)\u001b[0m\u001b[1;33m:\u001b[0m\u001b[1;33m\u001b[0m\u001b[0m\n\u001b[0;32m     18\u001b[0m             \u001b[0mparticles\u001b[0m\u001b[1;33m[\u001b[0m\u001b[0mi\u001b[0m\u001b[1;33m]\u001b[0m\u001b[1;33m.\u001b[0m\u001b[0mset_pBest\u001b[0m\u001b[1;33m(\u001b[0m\u001b[0mparams\u001b[0m\u001b[1;33m)\u001b[0m\u001b[1;33m\u001b[0m\u001b[0m\n",
      "\u001b[1;32m<ipython-input-45-b01e8eb784d0>\u001b[0m in \u001b[0;36mtrainSVM\u001b[1;34m(C, gamma, index)\u001b[0m\n\u001b[0;32m      4\u001b[0m     \u001b[0mmeans\u001b[0m \u001b[1;33m=\u001b[0m \u001b[1;33m[\u001b[0m\u001b[1;33m]\u001b[0m\u001b[1;33m\u001b[0m\u001b[0m\n\u001b[0;32m      5\u001b[0m     \u001b[1;32mfor\u001b[0m \u001b[0mtraining\u001b[0m\u001b[1;33m,\u001b[0m \u001b[0mtesting\u001b[0m \u001b[1;32min\u001b[0m \u001b[0mkf\u001b[0m\u001b[1;33m:\u001b[0m\u001b[1;33m\u001b[0m\u001b[0m\n\u001b[1;32m----> 6\u001b[1;33m         \u001b[0mclf\u001b[0m\u001b[1;33m.\u001b[0m\u001b[0mfit\u001b[0m\u001b[1;33m(\u001b[0m\u001b[0mdata\u001b[0m\u001b[1;33m[\u001b[0m\u001b[0mtraining\u001b[0m\u001b[1;33m]\u001b[0m\u001b[1;33m,\u001b[0m \u001b[0mresult\u001b[0m\u001b[1;33m[\u001b[0m\u001b[0mtraining\u001b[0m\u001b[1;33m]\u001b[0m\u001b[1;33m)\u001b[0m\u001b[1;33m\u001b[0m\u001b[0m\n\u001b[0m\u001b[0;32m      7\u001b[0m         \u001b[0mprediction\u001b[0m \u001b[1;33m=\u001b[0m \u001b[0mclf\u001b[0m\u001b[1;33m.\u001b[0m\u001b[0mpredict\u001b[0m\u001b[1;33m(\u001b[0m\u001b[0mdata\u001b[0m\u001b[1;33m[\u001b[0m\u001b[0mtesting\u001b[0m\u001b[1;33m]\u001b[0m\u001b[1;33m)\u001b[0m\u001b[1;33m\u001b[0m\u001b[0m\n\u001b[0;32m      8\u001b[0m         \u001b[0mcurmean\u001b[0m \u001b[1;33m=\u001b[0m \u001b[0mnp\u001b[0m\u001b[1;33m.\u001b[0m\u001b[0mmean\u001b[0m\u001b[1;33m(\u001b[0m\u001b[0mprediction\u001b[0m \u001b[1;33m==\u001b[0m \u001b[0mresult\u001b[0m\u001b[1;33m[\u001b[0m\u001b[0mtesting\u001b[0m\u001b[1;33m]\u001b[0m\u001b[1;33m)\u001b[0m\u001b[1;33m\u001b[0m\u001b[0m\n",
      "\u001b[1;32m/home/aman/anaconda2/lib/python2.7/site-packages/sklearn/svm/base.pyc\u001b[0m in \u001b[0;36mfit\u001b[1;34m(self, X, y, sample_weight)\u001b[0m\n\u001b[0;32m    191\u001b[0m \u001b[1;33m\u001b[0m\u001b[0m\n\u001b[0;32m    192\u001b[0m         \u001b[0mseed\u001b[0m \u001b[1;33m=\u001b[0m \u001b[0mrnd\u001b[0m\u001b[1;33m.\u001b[0m\u001b[0mrandint\u001b[0m\u001b[1;33m(\u001b[0m\u001b[0mnp\u001b[0m\u001b[1;33m.\u001b[0m\u001b[0miinfo\u001b[0m\u001b[1;33m(\u001b[0m\u001b[1;34m'i'\u001b[0m\u001b[1;33m)\u001b[0m\u001b[1;33m.\u001b[0m\u001b[0mmax\u001b[0m\u001b[1;33m)\u001b[0m\u001b[1;33m\u001b[0m\u001b[0m\n\u001b[1;32m--> 193\u001b[1;33m         \u001b[0mfit\u001b[0m\u001b[1;33m(\u001b[0m\u001b[0mX\u001b[0m\u001b[1;33m,\u001b[0m \u001b[0my\u001b[0m\u001b[1;33m,\u001b[0m \u001b[0msample_weight\u001b[0m\u001b[1;33m,\u001b[0m \u001b[0msolver_type\u001b[0m\u001b[1;33m,\u001b[0m \u001b[0mkernel\u001b[0m\u001b[1;33m,\u001b[0m \u001b[0mrandom_seed\u001b[0m\u001b[1;33m=\u001b[0m\u001b[0mseed\u001b[0m\u001b[1;33m)\u001b[0m\u001b[1;33m\u001b[0m\u001b[0m\n\u001b[0m\u001b[0;32m    194\u001b[0m         \u001b[1;31m# see comment on the other call to np.iinfo in this file\u001b[0m\u001b[1;33m\u001b[0m\u001b[1;33m\u001b[0m\u001b[0m\n\u001b[0;32m    195\u001b[0m \u001b[1;33m\u001b[0m\u001b[0m\n",
      "\u001b[1;32m/home/aman/anaconda2/lib/python2.7/site-packages/sklearn/svm/base.pyc\u001b[0m in \u001b[0;36m_dense_fit\u001b[1;34m(self, X, y, sample_weight, solver_type, kernel, random_seed)\u001b[0m\n\u001b[0;32m    249\u001b[0m                 \u001b[0mcache_size\u001b[0m\u001b[1;33m=\u001b[0m\u001b[0mself\u001b[0m\u001b[1;33m.\u001b[0m\u001b[0mcache_size\u001b[0m\u001b[1;33m,\u001b[0m \u001b[0mcoef0\u001b[0m\u001b[1;33m=\u001b[0m\u001b[0mself\u001b[0m\u001b[1;33m.\u001b[0m\u001b[0mcoef0\u001b[0m\u001b[1;33m,\u001b[0m\u001b[1;33m\u001b[0m\u001b[0m\n\u001b[0;32m    250\u001b[0m                 \u001b[0mgamma\u001b[0m\u001b[1;33m=\u001b[0m\u001b[0mself\u001b[0m\u001b[1;33m.\u001b[0m\u001b[0m_gamma\u001b[0m\u001b[1;33m,\u001b[0m \u001b[0mepsilon\u001b[0m\u001b[1;33m=\u001b[0m\u001b[0mself\u001b[0m\u001b[1;33m.\u001b[0m\u001b[0mepsilon\u001b[0m\u001b[1;33m,\u001b[0m\u001b[1;33m\u001b[0m\u001b[0m\n\u001b[1;32m--> 251\u001b[1;33m                 max_iter=self.max_iter, random_seed=random_seed)\n\u001b[0m\u001b[0;32m    252\u001b[0m \u001b[1;33m\u001b[0m\u001b[0m\n\u001b[0;32m    253\u001b[0m         \u001b[0mself\u001b[0m\u001b[1;33m.\u001b[0m\u001b[0m_warn_from_fit_status\u001b[0m\u001b[1;33m(\u001b[0m\u001b[1;33m)\u001b[0m\u001b[1;33m\u001b[0m\u001b[0m\n",
      "\u001b[1;31mKeyboardInterrupt\u001b[0m: "
     ]
    }
   ],
   "source": [
    "PSO_algo()\n",
    "# a = [1, 2, 3]\n",
    "# print(np.multiply(2,a))"
   ]
  }
 ],
 "metadata": {
  "kernelspec": {
   "display_name": "Python 2",
   "language": "python",
   "name": "python2"
  },
  "language_info": {
   "codemirror_mode": {
    "name": "ipython",
    "version": 2
   },
   "file_extension": ".py",
   "mimetype": "text/x-python",
   "name": "python",
   "nbconvert_exporter": "python",
   "pygments_lexer": "ipython2",
   "version": "2.7.11"
  }
 },
 "nbformat": 4,
 "nbformat_minor": 0
}
