{
 "cells": [
  {
   "cell_type": "code",
   "execution_count": 3,
   "metadata": {
    "collapsed": false
   },
   "outputs": [],
   "source": [
    "import random\n",
    "import sys\n",
    "import numpy as np\n",
    "import copy\n",
    "import arff\n",
    "from sklearn.decomposition import PCA\n",
    "from sklearn.preprocessing import Imputer\n",
    "from sklearn import svm\n",
    "from sklearn.cross_validation import KFold\n",
    "import os.path\n",
    "import pickle\n",
    "import json"
   ]
  },
  {
   "cell_type": "code",
   "execution_count": 4,
   "metadata": {
    "collapsed": false
   },
   "outputs": [],
   "source": [
    "# Preprocessing data\n",
    "def process_data(data):\n",
    "    imp = Imputer(missing_values='NaN', strategy='mean', axis=1) \n",
    "    data = imp.fit_transform(data)\n",
    "    data = (data - np.mean(data, 0)) / np.std(data, 0) # normalazing data\n",
    "    pca = PCA(n_components=4)\n",
    "    data_reduced = pca.fit_transform(data)\n",
    "    print(pca.explained_variance_ratio_)\n",
    "#     print(data)\n",
    "    return data_reduced"
   ]
  },
  {
   "cell_type": "code",
   "execution_count": 5,
   "metadata": {
    "collapsed": false
   },
   "outputs": [
    {
     "name": "stdout",
     "output_type": "stream",
     "text": [
      "[ 0.71808202  0.06539229  0.05846513  0.04429877]\n"
     ]
    }
   ],
   "source": [
    "# Load data\n",
    "fil = arff.load(open('data/jm1a.arff', 'rb'))\n",
    "data = np.array(fil['data'])\n",
    "# print(data)\n",
    "data = np.array(random.sample(data, 500))\n",
    "\n",
    "result = data[:, -1]\n",
    "data = data[:, 0:21]\n",
    "data = process_data(data)"
   ]
  },
  {
   "cell_type": "code",
   "execution_count": 6,
   "metadata": {
    "collapsed": false
   },
   "outputs": [],
   "source": [
    "def trainSVM(C, gamma):\n",
    "    clf = svm.SVC(C=C, gamma=gamma)\n",
    "    kf = KFold(len(data), n_folds=10, shuffle=True)\n",
    "    means = []\n",
    "    for training, testing in kf:\n",
    "        clf.fit(data[training], result[training])\n",
    "        prediction = clf.predict(data[testing])\n",
    "        curmean = np.mean(prediction == result[testing])\n",
    "        means.append(curmean)\n",
    "    \n",
    "    accuracy = np.mean(means)\n",
    "    print(\"Mean accuracy: {:.1%}\".format(accuracy))\n",
    "    return accuracy"
   ]
  },
  {
   "cell_type": "code",
   "execution_count": 7,
   "metadata": {
    "collapsed": false
   },
   "outputs": [
    {
     "name": "stdout",
     "output_type": "stream",
     "text": [
      "Mean accuracy: 75.8%\n"
     ]
    },
    {
     "data": {
      "text/plain": [
       "0.7579999999999999"
      ]
     },
     "execution_count": 7,
     "metadata": {},
     "output_type": "execute_result"
    }
   ],
   "source": [
    "trainSVM(C=451.2923, gamma=1.909)"
   ]
  },
  {
   "cell_type": "code",
   "execution_count": 8,
   "metadata": {
    "collapsed": false
   },
   "outputs": [],
   "source": [
    "#PSO variables\n",
    "NO_OF_INPUTS = 2\n",
    "V_MAX = 180\n",
    "V_MIN = -180\n",
    "MAX_PARTICLES = 20\n",
    "MAX_EPOCHS = 100\n",
    "MAX_RANGE_C = 400\n",
    "MIN_RANGE_C = 50\n",
    "MAX_RANGE_GAMMA = 0\n",
    "MIN_RANGE_GAMMA = 2"
   ]
  },
  {
   "cell_type": "code",
   "execution_count": 9,
   "metadata": {
    "collapsed": true
   },
   "outputs": [],
   "source": [
    "class Particle:\n",
    "    def __init__(self):\n",
    "        self.params = [0] * NO_OF_INPUTS\n",
    "        self.pBest = [0] * NO_OF_INPUTS\n",
    "        self.velocity = [0] * NO_OF_INPUTS\n",
    "        self.bestVal = 0\n",
    "        \n",
    "    def get_params(self):\n",
    "        return self.params\n",
    "\n",
    "    def set_params(self, value):\n",
    "        self.params = value\n",
    "        \n",
    "    def get_pBest(self):\n",
    "        return self.pBest\n",
    "    \n",
    "    def set_pBest(self, value):\n",
    "        self.pBest = value\n",
    "    \n",
    "    def get_velocity(self):\n",
    "        return self.velocity\n",
    "    \n",
    "    def set_velocity(self, value):\n",
    "        self.velocity = value\n",
    "        \n",
    "    def get_bestVal(self):\n",
    "        return self.bestVal\n",
    "    \n",
    "    def set_bestVal(self, value):\n",
    "        self.bestVal = value"
   ]
  },
  {
   "cell_type": "code",
   "execution_count": 10,
   "metadata": {
    "collapsed": false
   },
   "outputs": [],
   "source": [
    "def initialize_particles():\n",
    "    particles = []\n",
    "    for i in range(MAX_PARTICLES):\n",
    "        newParticle = Particle()\n",
    "        params = []\n",
    "        C = np.random.uniform(MIN_RANGE_C, MAX_RANGE_C)\n",
    "        gamma = np.random.uniform(MIN_RANGE_GAMMA, MAX_RANGE_GAMMA)\n",
    "        params.append(C), params.append(gamma)\n",
    "        newParticle.set_params(params)\n",
    "        newParticle.set_pBest(params)\n",
    "        newParticle.set_bestVal(trainSVM(C=C, gamma=gamma))\n",
    "        particles.append(copy.deepcopy(newParticle))\n",
    "        \n",
    "    return particles"
   ]
  },
  {
   "cell_type": "code",
   "execution_count": 11,
   "metadata": {
    "collapsed": true
   },
   "outputs": [],
   "source": [
    "def max_fitness(particles):\n",
    "    best = 0\n",
    "    for i in range(MAX_PARTICLES):\n",
    "        if particles[i].get_bestVal > particles[best].get_bestVal:\n",
    "            best = i\n",
    "    \n",
    "    return best"
   ]
  },
  {
   "cell_type": "code",
   "execution_count": 12,
   "metadata": {
    "collapsed": false
   },
   "outputs": [],
   "source": [
    "def calc_velocity(gBestIndex, particles):\n",
    "    gBest = particles[gBestIndex].get_bestVal()\n",
    "    for i in range(MAX_PARTICLES):\n",
    "        velocity = particles[i].get_velocity() + np.multiply(2 * np.random.uniform(), np.subtract(particles[i].get_pBest(), particles[i].get_params()))\n",
    "        velocity = velocity + np.multiply(2 * np.random.uniform(), np.subtract(particles[gBestIndex].get_params(), particles[i].get_params()))\n",
    "        if velocity[0]>V_MAX:\n",
    "            velocity[0] = V_MAX\n",
    "        elif velocity[0]<V_MIN:\n",
    "            velocity[0] = V_MIN\n",
    "        \n",
    "        particles[i].set_velocity(velocity)"
   ]
  },
  {
   "cell_type": "code",
   "execution_count": 17,
   "metadata": {
    "collapsed": false
   },
   "outputs": [],
   "source": [
    "def update_particles(gBestIndex, particles):\n",
    "    for i in range(MAX_PARTICLES):\n",
    "        params = particles[i].get_params()\n",
    "        temp = particles[gBestIndex].get_params()\n",
    "        vel = particles[i].get_velocity()\n",
    "        for y in range(len(params)):\n",
    "            if params[y] != temp[y]:\n",
    "                params[y] += vel[y]\n",
    "        \n",
    "        if params[0]<0:\n",
    "            params[0]=np.random.uniform(MIN_RANGE_C, MAX_RANGE_C)\n",
    "        \n",
    "        if params[1]<0:\n",
    "            params[1] =np.random.uniform(MIN_RANGE_GAMMA, MAX_RANGE_GAMMA)\n",
    "        \n",
    "        acc = trainSVM(params[0], params[1])\n",
    "        if acc>particles[i].get_bestVal():\n",
    "            particles[i].set_pBest(params)\n",
    "            particles[i].set_bestVal(acc)"
   ]
  },
  {
   "cell_type": "code",
   "execution_count": 16,
   "metadata": {
    "collapsed": true
   },
   "outputs": [],
   "source": [
    "def PSO_algo():\n",
    "    epoch = 1\n",
    "    particles = []\n",
    "    result = []\n",
    "    \n",
    "    random.seed(10)\n",
    "    \n",
    "    if(os.path.isfile('PARTICLES.pk1')):\n",
    "        with open('PARTICLES.pk1', 'r') as ip:\n",
    "            particles = pickle.load(ip)\n",
    "    else:\n",
    "        particles = initialize_particles()\n",
    "        \n",
    "    if(os.path.isfile('save_pso_svm.json')):\n",
    "        with open('save_pso_svm.json', 'r') as ip:\n",
    "            open_data = json.load(ip)\n",
    "            epoch = open_data['epoch']\n",
    "    \n",
    "    while epoch<MAX_EPOCHS:        \n",
    "        gBest = max_fitness(particles)\n",
    "        \n",
    "        calc_velocity(gBest, particles)\n",
    "        update_particles(gBest, particles)\n",
    "        \n",
    "        with open('PARTICLES.pk1', 'w') as op:\n",
    "            pickle.dump(particles, op, pickle.HIGHEST_PROTOCOL)\n",
    "        \n",
    "        gBest = max_fitness(particles)\n",
    "        #print(\"Best in epoch \" + str(epoch) +\": \" + str(particles[gBest].get_data()))\n",
    "        print(\"Epoch: \" + str(epoch))\n",
    "        print(\"Max accuracy achieved: \" + str(particles[gBest].get_bestVal()))\n",
    "        epoch += 1\n",
    "        \n",
    "        save_data = {}\n",
    "        save_data['epoch'] = epoch\n",
    "        save_data['C'] = particles[gBest].get_params()[0]\n",
    "        save_data['gamma'] = particles[gBest].get_params()[1]\n",
    "        save_data['accuracy'] = particles[gBest].get_bestVal()\n",
    "        with open('save_pso_svm.json', 'w') as fp:\n",
    "            json.dump(save_data, fp, sort_keys=True, indent=4)"
   ]
  },
  {
   "cell_type": "code",
   "execution_count": 18,
   "metadata": {
    "collapsed": false
   },
   "outputs": [
    {
     "name": "stdout",
     "output_type": "stream",
     "text": [
      "Mean accuracy: 75.6%\n",
      "Mean accuracy: 78.4%\n",
      "Mean accuracy: 76.0%\n",
      "Mean accuracy: 76.2%\n",
      "Mean accuracy: 74.6%\n",
      "Mean accuracy: 76.8%\n",
      "Mean accuracy: 78.0%\n",
      "Mean accuracy: 75.6%\n",
      "Mean accuracy: 74.8%\n"
     ]
    },
    {
     "ename": "KeyboardInterrupt",
     "evalue": "",
     "output_type": "error",
     "traceback": [
      "\u001b[1;31m---------------------------------------------------------------------------\u001b[0m",
      "\u001b[1;31mKeyboardInterrupt\u001b[0m                         Traceback (most recent call last)",
      "\u001b[1;32m<ipython-input-18-cc2201c5d342>\u001b[0m in \u001b[0;36m<module>\u001b[1;34m()\u001b[0m\n\u001b[1;32m----> 1\u001b[1;33m \u001b[0mPSO_algo\u001b[0m\u001b[1;33m(\u001b[0m\u001b[1;33m)\u001b[0m\u001b[1;33m\u001b[0m\u001b[0m\n\u001b[0m\u001b[0;32m      2\u001b[0m \u001b[1;32mprint\u001b[0m\u001b[1;33m(\u001b[0m\u001b[0mtrainSVM\u001b[0m\u001b[1;33m(\u001b[0m\u001b[1;36m283\u001b[0m\u001b[1;33m,\u001b[0m \u001b[1;36m0.01\u001b[0m\u001b[1;33m)\u001b[0m\u001b[1;33m)\u001b[0m\u001b[1;33m\u001b[0m\u001b[0m\n\u001b[0;32m      3\u001b[0m \u001b[1;31m# a = [1, 2, 3]\u001b[0m\u001b[1;33m\u001b[0m\u001b[1;33m\u001b[0m\u001b[0m\n\u001b[0;32m      4\u001b[0m \u001b[1;31m# print(np.multiply(2,a))\u001b[0m\u001b[1;33m\u001b[0m\u001b[1;33m\u001b[0m\u001b[0m\n",
      "\u001b[1;32m<ipython-input-16-755e4fdc9637>\u001b[0m in \u001b[0;36mPSO_algo\u001b[1;34m()\u001b[0m\n\u001b[0;32m     21\u001b[0m \u001b[1;33m\u001b[0m\u001b[0m\n\u001b[0;32m     22\u001b[0m         \u001b[0mcalc_velocity\u001b[0m\u001b[1;33m(\u001b[0m\u001b[0mgBest\u001b[0m\u001b[1;33m,\u001b[0m \u001b[0mparticles\u001b[0m\u001b[1;33m)\u001b[0m\u001b[1;33m\u001b[0m\u001b[0m\n\u001b[1;32m---> 23\u001b[1;33m         \u001b[0mupdate_particles\u001b[0m\u001b[1;33m(\u001b[0m\u001b[0mgBest\u001b[0m\u001b[1;33m,\u001b[0m \u001b[0mparticles\u001b[0m\u001b[1;33m)\u001b[0m\u001b[1;33m\u001b[0m\u001b[0m\n\u001b[0m\u001b[0;32m     24\u001b[0m \u001b[1;33m\u001b[0m\u001b[0m\n\u001b[0;32m     25\u001b[0m         \u001b[1;32mwith\u001b[0m \u001b[0mopen\u001b[0m\u001b[1;33m(\u001b[0m\u001b[1;34m'PARTICLES.pk1'\u001b[0m\u001b[1;33m,\u001b[0m \u001b[1;34m'w'\u001b[0m\u001b[1;33m)\u001b[0m \u001b[1;32mas\u001b[0m \u001b[0mop\u001b[0m\u001b[1;33m:\u001b[0m\u001b[1;33m\u001b[0m\u001b[0m\n",
      "\u001b[1;32m<ipython-input-17-76db50b7bbe8>\u001b[0m in \u001b[0;36mupdate_particles\u001b[1;34m(gBestIndex, particles)\u001b[0m\n\u001b[0;32m     14\u001b[0m             \u001b[0mparams\u001b[0m\u001b[1;33m[\u001b[0m\u001b[1;36m1\u001b[0m\u001b[1;33m]\u001b[0m \u001b[1;33m=\u001b[0m\u001b[0mnp\u001b[0m\u001b[1;33m.\u001b[0m\u001b[0mrandom\u001b[0m\u001b[1;33m.\u001b[0m\u001b[0muniform\u001b[0m\u001b[1;33m(\u001b[0m\u001b[0mMIN_RANGE_GAMMA\u001b[0m\u001b[1;33m,\u001b[0m \u001b[0mMAX_RANGE_GAMMA\u001b[0m\u001b[1;33m)\u001b[0m\u001b[1;33m\u001b[0m\u001b[0m\n\u001b[0;32m     15\u001b[0m \u001b[1;33m\u001b[0m\u001b[0m\n\u001b[1;32m---> 16\u001b[1;33m         \u001b[0macc\u001b[0m \u001b[1;33m=\u001b[0m \u001b[0mtrainSVM\u001b[0m\u001b[1;33m(\u001b[0m\u001b[0mparams\u001b[0m\u001b[1;33m[\u001b[0m\u001b[1;36m0\u001b[0m\u001b[1;33m]\u001b[0m\u001b[1;33m,\u001b[0m \u001b[0mparams\u001b[0m\u001b[1;33m[\u001b[0m\u001b[1;36m1\u001b[0m\u001b[1;33m]\u001b[0m\u001b[1;33m)\u001b[0m\u001b[1;33m\u001b[0m\u001b[0m\n\u001b[0m\u001b[0;32m     17\u001b[0m         \u001b[1;32mif\u001b[0m \u001b[0macc\u001b[0m\u001b[1;33m>\u001b[0m\u001b[0mparticles\u001b[0m\u001b[1;33m[\u001b[0m\u001b[0mi\u001b[0m\u001b[1;33m]\u001b[0m\u001b[1;33m.\u001b[0m\u001b[0mget_bestVal\u001b[0m\u001b[1;33m(\u001b[0m\u001b[1;33m)\u001b[0m\u001b[1;33m:\u001b[0m\u001b[1;33m\u001b[0m\u001b[0m\n\u001b[0;32m     18\u001b[0m             \u001b[0mparticles\u001b[0m\u001b[1;33m[\u001b[0m\u001b[0mi\u001b[0m\u001b[1;33m]\u001b[0m\u001b[1;33m.\u001b[0m\u001b[0mset_pBest\u001b[0m\u001b[1;33m(\u001b[0m\u001b[0mparams\u001b[0m\u001b[1;33m)\u001b[0m\u001b[1;33m\u001b[0m\u001b[0m\n",
      "\u001b[1;32m<ipython-input-6-518fb456f7b1>\u001b[0m in \u001b[0;36mtrainSVM\u001b[1;34m(C, gamma)\u001b[0m\n\u001b[0;32m      4\u001b[0m     \u001b[0mmeans\u001b[0m \u001b[1;33m=\u001b[0m \u001b[1;33m[\u001b[0m\u001b[1;33m]\u001b[0m\u001b[1;33m\u001b[0m\u001b[0m\n\u001b[0;32m      5\u001b[0m     \u001b[1;32mfor\u001b[0m \u001b[0mtraining\u001b[0m\u001b[1;33m,\u001b[0m \u001b[0mtesting\u001b[0m \u001b[1;32min\u001b[0m \u001b[0mkf\u001b[0m\u001b[1;33m:\u001b[0m\u001b[1;33m\u001b[0m\u001b[0m\n\u001b[1;32m----> 6\u001b[1;33m         \u001b[0mclf\u001b[0m\u001b[1;33m.\u001b[0m\u001b[0mfit\u001b[0m\u001b[1;33m(\u001b[0m\u001b[0mdata\u001b[0m\u001b[1;33m[\u001b[0m\u001b[0mtraining\u001b[0m\u001b[1;33m]\u001b[0m\u001b[1;33m,\u001b[0m \u001b[0mresult\u001b[0m\u001b[1;33m[\u001b[0m\u001b[0mtraining\u001b[0m\u001b[1;33m]\u001b[0m\u001b[1;33m)\u001b[0m\u001b[1;33m\u001b[0m\u001b[0m\n\u001b[0m\u001b[0;32m      7\u001b[0m         \u001b[0mprediction\u001b[0m \u001b[1;33m=\u001b[0m \u001b[0mclf\u001b[0m\u001b[1;33m.\u001b[0m\u001b[0mpredict\u001b[0m\u001b[1;33m(\u001b[0m\u001b[0mdata\u001b[0m\u001b[1;33m[\u001b[0m\u001b[0mtesting\u001b[0m\u001b[1;33m]\u001b[0m\u001b[1;33m)\u001b[0m\u001b[1;33m\u001b[0m\u001b[0m\n\u001b[0;32m      8\u001b[0m         \u001b[0mcurmean\u001b[0m \u001b[1;33m=\u001b[0m \u001b[0mnp\u001b[0m\u001b[1;33m.\u001b[0m\u001b[0mmean\u001b[0m\u001b[1;33m(\u001b[0m\u001b[0mprediction\u001b[0m \u001b[1;33m==\u001b[0m \u001b[0mresult\u001b[0m\u001b[1;33m[\u001b[0m\u001b[0mtesting\u001b[0m\u001b[1;33m]\u001b[0m\u001b[1;33m)\u001b[0m\u001b[1;33m\u001b[0m\u001b[0m\n",
      "\u001b[1;32m/home/aman/anaconda2/lib/python2.7/site-packages/sklearn/svm/base.pyc\u001b[0m in \u001b[0;36mfit\u001b[1;34m(self, X, y, sample_weight)\u001b[0m\n\u001b[0;32m    191\u001b[0m \u001b[1;33m\u001b[0m\u001b[0m\n\u001b[0;32m    192\u001b[0m         \u001b[0mseed\u001b[0m \u001b[1;33m=\u001b[0m \u001b[0mrnd\u001b[0m\u001b[1;33m.\u001b[0m\u001b[0mrandint\u001b[0m\u001b[1;33m(\u001b[0m\u001b[0mnp\u001b[0m\u001b[1;33m.\u001b[0m\u001b[0miinfo\u001b[0m\u001b[1;33m(\u001b[0m\u001b[1;34m'i'\u001b[0m\u001b[1;33m)\u001b[0m\u001b[1;33m.\u001b[0m\u001b[0mmax\u001b[0m\u001b[1;33m)\u001b[0m\u001b[1;33m\u001b[0m\u001b[0m\n\u001b[1;32m--> 193\u001b[1;33m         \u001b[0mfit\u001b[0m\u001b[1;33m(\u001b[0m\u001b[0mX\u001b[0m\u001b[1;33m,\u001b[0m \u001b[0my\u001b[0m\u001b[1;33m,\u001b[0m \u001b[0msample_weight\u001b[0m\u001b[1;33m,\u001b[0m \u001b[0msolver_type\u001b[0m\u001b[1;33m,\u001b[0m \u001b[0mkernel\u001b[0m\u001b[1;33m,\u001b[0m \u001b[0mrandom_seed\u001b[0m\u001b[1;33m=\u001b[0m\u001b[0mseed\u001b[0m\u001b[1;33m)\u001b[0m\u001b[1;33m\u001b[0m\u001b[0m\n\u001b[0m\u001b[0;32m    194\u001b[0m         \u001b[1;31m# see comment on the other call to np.iinfo in this file\u001b[0m\u001b[1;33m\u001b[0m\u001b[1;33m\u001b[0m\u001b[0m\n\u001b[0;32m    195\u001b[0m \u001b[1;33m\u001b[0m\u001b[0m\n",
      "\u001b[1;32m/home/aman/anaconda2/lib/python2.7/site-packages/sklearn/svm/base.pyc\u001b[0m in \u001b[0;36m_dense_fit\u001b[1;34m(self, X, y, sample_weight, solver_type, kernel, random_seed)\u001b[0m\n\u001b[0;32m    249\u001b[0m                 \u001b[0mcache_size\u001b[0m\u001b[1;33m=\u001b[0m\u001b[0mself\u001b[0m\u001b[1;33m.\u001b[0m\u001b[0mcache_size\u001b[0m\u001b[1;33m,\u001b[0m \u001b[0mcoef0\u001b[0m\u001b[1;33m=\u001b[0m\u001b[0mself\u001b[0m\u001b[1;33m.\u001b[0m\u001b[0mcoef0\u001b[0m\u001b[1;33m,\u001b[0m\u001b[1;33m\u001b[0m\u001b[0m\n\u001b[0;32m    250\u001b[0m                 \u001b[0mgamma\u001b[0m\u001b[1;33m=\u001b[0m\u001b[0mself\u001b[0m\u001b[1;33m.\u001b[0m\u001b[0m_gamma\u001b[0m\u001b[1;33m,\u001b[0m \u001b[0mepsilon\u001b[0m\u001b[1;33m=\u001b[0m\u001b[0mself\u001b[0m\u001b[1;33m.\u001b[0m\u001b[0mepsilon\u001b[0m\u001b[1;33m,\u001b[0m\u001b[1;33m\u001b[0m\u001b[0m\n\u001b[1;32m--> 251\u001b[1;33m                 max_iter=self.max_iter, random_seed=random_seed)\n\u001b[0m\u001b[0;32m    252\u001b[0m \u001b[1;33m\u001b[0m\u001b[0m\n\u001b[0;32m    253\u001b[0m         \u001b[0mself\u001b[0m\u001b[1;33m.\u001b[0m\u001b[0m_warn_from_fit_status\u001b[0m\u001b[1;33m(\u001b[0m\u001b[1;33m)\u001b[0m\u001b[1;33m\u001b[0m\u001b[0m\n",
      "\u001b[1;31mKeyboardInterrupt\u001b[0m: "
     ]
    }
   ],
   "source": [
    "PSO_algo()\n",
    "print(trainSVM(283, 0.01))\n",
    "# a = [1, 2, 3]\n",
    "# print(np.multiply(2,a))"
   ]
  }
 ],
 "metadata": {
  "kernelspec": {
   "display_name": "Python 2",
   "language": "python",
   "name": "python2"
  },
  "language_info": {
   "codemirror_mode": {
    "name": "ipython",
    "version": 2
   },
   "file_extension": ".py",
   "mimetype": "text/x-python",
   "name": "python",
   "nbconvert_exporter": "python",
   "pygments_lexer": "ipython2",
   "version": "2.7.11"
  }
 },
 "nbformat": 4,
 "nbformat_minor": 0
}
