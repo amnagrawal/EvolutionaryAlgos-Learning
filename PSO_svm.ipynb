{
 "cells": [
  {
   "cell_type": "code",
   "execution_count": 96,
   "metadata": {
    "collapsed": false
   },
   "outputs": [],
   "source": [
    "import random\n",
    "import sys\n",
    "import numpy as np\n",
    "import copy\n",
    "import arff\n",
    "from sklearn.decomposition import PCA\n",
    "from sklearn.preprocessing import Imputer\n",
    "from sklearn import svm\n",
    "from sklearn.cross_validation import KFold\n",
    "import os.path\n",
    "import pickle\n",
    "import json"
   ]
  },
  {
   "cell_type": "code",
   "execution_count": 97,
   "metadata": {
    "collapsed": false
   },
   "outputs": [],
   "source": [
    "# Preprocessing data\n",
    "def process_data(data):\n",
    "    imp = Imputer(missing_values='NaN', strategy='mean', axis=1) \n",
    "    data = imp.fit_transform(data)\n",
    "    data = (data - np.mean(data, 0)) / np.std(data, 0) # normalazing data\n",
    "    pca = PCA(n_components=4)\n",
    "    data_reduced = pca.fit_transform(data)\n",
    "    print(pca.explained_variance_ratio_)\n",
    "#     print(data)\n",
    "    return data_reduced"
   ]
  },
  {
   "cell_type": "code",
   "execution_count": 98,
   "metadata": {
    "collapsed": false
   },
   "outputs": [
    {
     "name": "stdout",
     "output_type": "stream",
     "text": [
      "[ 0.56730048  0.13657361  0.08893833  0.04503449]\n"
     ]
    }
   ],
   "source": [
    "# Load data\n",
    "fil = arff.load(open('data/jm1a.arff', 'rb'))\n",
    "data = np.array(fil['data'])\n",
    "# print(data)\n",
    "data = np.array(random.sample(data, 1000))\n",
    "\n",
    "result = data[:, -1]\n",
    "data = data[:, 0:21]\n",
    "data = process_data(data)"
   ]
  },
  {
   "cell_type": "code",
   "execution_count": 99,
   "metadata": {
    "collapsed": false
   },
   "outputs": [],
   "source": [
    "def trainSVM(C, gamma, index):\n",
    "    clf = svm.SVC(C=C, gamma=gamma)\n",
    "    kf = KFold(len(data), n_folds=10, shuffle=True)\n",
    "    means = []\n",
    "    for training, testing in kf:\n",
    "        clf.fit(data[training], result[training])\n",
    "        prediction = clf.predict(data[testing])\n",
    "        curmean = np.mean(prediction == result[testing])\n",
    "        means.append(curmean)\n",
    "    \n",
    "    accuracy = np.mean(means)\n",
    "    print(\"\\tMean accuracy of particle {}: {:.1%}\".format(index, accuracy))\n",
    "    return accuracy"
   ]
  },
  {
   "cell_type": "code",
   "execution_count": 112,
   "metadata": {
    "collapsed": false
   },
   "outputs": [
    {
     "name": "stdout",
     "output_type": "stream",
     "text": [
      "Mean accuracy of particle 3: 77.4%\n"
     ]
    },
    {
     "data": {
      "text/plain": [
       "0.77399999999999991"
      ]
     },
     "execution_count": 112,
     "metadata": {},
     "output_type": "execute_result"
    }
   ],
   "source": [
    "trainSVM(C=451.2923, gamma=1.909, index=3)"
   ]
  },
  {
   "cell_type": "code",
   "execution_count": 111,
   "metadata": {
    "collapsed": false
   },
   "outputs": [],
   "source": [
    "#PSO variables\n",
    "NO_OF_INPUTS = 2\n",
    "V_MAX = 180\n",
    "V_MIN = -180\n",
    "MAX_PARTICLES = 20\n",
    "MAX_EPOCHS = 100\n",
    "MAX_RANGE_C = 400\n",
    "MIN_RANGE_C = 50\n",
    "MAX_RANGE_GAMMA = 0\n",
    "MIN_RANGE_GAMMA = 2"
   ]
  },
  {
   "cell_type": "code",
   "execution_count": 102,
   "metadata": {
    "collapsed": true
   },
   "outputs": [],
   "source": [
    "class Particle:\n",
    "    def __init__(self):\n",
    "        self.params = [0] * NO_OF_INPUTS\n",
    "        self.pBest = [0] * NO_OF_INPUTS\n",
    "        self.velocity = [0] * NO_OF_INPUTS\n",
    "        self.bestVal = 0\n",
    "        \n",
    "    def get_params(self):\n",
    "        return self.params\n",
    "\n",
    "    def set_params(self, value):\n",
    "        self.params = value\n",
    "        \n",
    "    def get_pBest(self):\n",
    "        return self.pBest\n",
    "    \n",
    "    def set_pBest(self, value):\n",
    "        self.pBest = value\n",
    "    \n",
    "    def get_velocity(self):\n",
    "        return self.velocity\n",
    "    \n",
    "    def set_velocity(self, value):\n",
    "        self.velocity = value\n",
    "        \n",
    "    def get_bestVal(self):\n",
    "        return self.bestVal\n",
    "    \n",
    "    def set_bestVal(self, value):\n",
    "        self.bestVal = value"
   ]
  },
  {
   "cell_type": "code",
   "execution_count": 110,
   "metadata": {
    "collapsed": false
   },
   "outputs": [],
   "source": [
    "def initialize_particles():\n",
    "    particles = []\n",
    "    for i in range(MAX_PARTICLES):\n",
    "        newParticle = Particle()\n",
    "        params = []\n",
    "        C = np.random.uniform(MIN_RANGE_C, MAX_RANGE_C)\n",
    "        gamma = np.random.uniform(MIN_RANGE_GAMMA, MAX_RANGE_GAMMA)\n",
    "        params.append(C), params.append(gamma)\n",
    "        newParticle.set_params(params)\n",
    "        newParticle.set_pBest(params)\n",
    "        newParticle.set_bestVal(trainSVM(C=C, gamma=gamma, index=i))\n",
    "        particles.append(copy.deepcopy(newParticle))\n",
    "        \n",
    "    return particles"
   ]
  },
  {
   "cell_type": "code",
   "execution_count": 104,
   "metadata": {
    "collapsed": false
   },
   "outputs": [],
   "source": [
    "def max_fitness(particles):\n",
    "    best = 0\n",
    "    for i in range(MAX_PARTICLES):\n",
    "        if particles[i].get_bestVal() > particles[best].get_bestVal():\n",
    "            best = i\n",
    "    \n",
    "    return best"
   ]
  },
  {
   "cell_type": "code",
   "execution_count": 105,
   "metadata": {
    "collapsed": false
   },
   "outputs": [],
   "source": [
    "def calc_velocity(gBestIndex, particles):\n",
    "    gBest = particles[gBestIndex].get_bestVal()\n",
    "    for i in range(MAX_PARTICLES):\n",
    "        velocity = particles[i].get_velocity() + np.multiply(2 * np.random.uniform(), np.subtract(particles[i].get_pBest(), particles[i].get_params()))\n",
    "        velocity = velocity + np.multiply(2 * np.random.uniform(), np.subtract(particles[gBestIndex].get_params(), particles[i].get_params()))\n",
    "        \n",
    "        if velocity[0]>V_MAX:\n",
    "            velocity[0] = V_MAX\n",
    "        elif velocity[0]<V_MIN:\n",
    "            velocity[0] = V_MIN\n",
    "        \n",
    "        particles[i].set_velocity(velocity)\n",
    "    \n",
    "    return particles"
   ]
  },
  {
   "cell_type": "code",
   "execution_count": 106,
   "metadata": {
    "collapsed": false
   },
   "outputs": [],
   "source": [
    "def update_particles(gBestIndex, particles):\n",
    "    for i in range(MAX_PARTICLES):\n",
    "        params = particles[i].get_params()\n",
    "        temp = particles[gBestIndex].get_params()\n",
    "        vel = particles[i].get_velocity()\n",
    "        for y in range(len(params)):\n",
    "            if params[y] != temp[y]:\n",
    "                params[y] += vel[y]\n",
    "        \n",
    "        if params[0]<0:\n",
    "            params[0]=np.random.uniform(MIN_RANGE_C, MAX_RANGE_C)\n",
    "        \n",
    "        if params[1]<0:\n",
    "            params[1] =np.random.uniform(MIN_RANGE_GAMMA, MAX_RANGE_GAMMA)\n",
    "        \n",
    "        acc = trainSVM(params[0], params[1], index=i)\n",
    "        \n",
    "        if acc>particles[i].get_bestVal():\n",
    "            particles[i].set_pBest(params)\n",
    "            particles[i].set_bestVal(acc)\n",
    "        \n",
    "    return particles"
   ]
  },
  {
   "cell_type": "code",
   "execution_count": 109,
   "metadata": {
    "collapsed": false
   },
   "outputs": [],
   "source": [
    "def PSO_algo():\n",
    "    epoch = 0\n",
    "    particles = []\n",
    "    result = []\n",
    "    \n",
    "    random.seed(10)\n",
    "    \n",
    "    if(os.path.isfile('PARTICLES.pk1')):\n",
    "        with open('PARTICLES.pk1', 'r') as ip:\n",
    "            particles = pickle.load(ip)\n",
    "    else:\n",
    "        particles = initialize_particles()\n",
    "        \n",
    "    if(os.path.isfile('save_pso_svm.json')):\n",
    "        with open('save_pso_svm.json', 'r') as ip:\n",
    "            open_data = json.load(ip)\n",
    "            epoch = open_data['epoch']\n",
    "    \n",
    "    while epoch<=MAX_EPOCHS:        \n",
    "        gBest = max_fitness(particles)\n",
    "        \n",
    "        print(\"Epoch: \" + str(epoch))\n",
    "        print(\"\\tMax accuracy achieved: {:.1%}\".format(particles[gBest].get_bestVal()))\n",
    "        print(\"\\tC=%f, gamma=%f\" % (particles[gBest].get_params()[0], particles[gBest].get_params()[1]))\n",
    "        \n",
    "        particles = calc_velocity(gBest, particles)\n",
    "        particles = update_particles(gBest, particles)\n",
    "        \n",
    "        with open('PARTICLES.pk1', 'w') as op:\n",
    "            pickle.dump(particles, op, pickle.HIGHEST_PROTOCOL)\n",
    "        \n",
    "        gBest = max_fitness(particles)\n",
    "        #print(\"Best in epoch \" + str(epoch) +\": \" + str(particles[gBest].get_data()))\n",
    "        epoch += 1\n",
    "        \n",
    "        save_data = {}\n",
    "        save_data['epoch'] = epoch\n",
    "        save_data['C'] = particles[gBest].get_params()[0]\n",
    "        save_data['gamma'] = particles[gBest].get_params()[1]\n",
    "        save_data['accuracy'] = particles[gBest].get_bestVal()\n",
    "        with open('save_pso_svm.json', 'w') as fp:\n",
    "            json.dump(save_data, fp, sort_keys=True, indent=4)"
   ]
  },
  {
   "cell_type": "code",
   "execution_count": null,
   "metadata": {
    "collapsed": false
   },
   "outputs": [
    {
     "name": "stdout",
     "output_type": "stream",
     "text": [
      "Mean accuracy of particle 0: 79.2%\n",
      "Mean accuracy of particle 1: 79.9%\n",
      "Mean accuracy of particle 2: 80.6%\n",
      "Mean accuracy of particle 3: 78.5%\n",
      "Mean accuracy of particle 4: 81.8%\n",
      "Mean accuracy of particle 5: 79.1%\n",
      "Mean accuracy of particle 6: 79.6%\n",
      "Mean accuracy of particle 7: 81.2%\n",
      "Mean accuracy of particle 8: 78.3%\n",
      "Mean accuracy of particle 9: 81.6%\n",
      "Mean accuracy of particle 10: 78.5%\n",
      "Mean accuracy of particle 11: 78.4%\n",
      "Mean accuracy of particle 12: 78.4%\n",
      "Mean accuracy of particle 13: 78.1%"
     ]
    }
   ],
   "source": [
    "PSO_algo()\n",
    "# a = [1, 2, 3]\n",
    "# print(np.multiply(2,a))"
   ]
  }
 ],
 "metadata": {
  "kernelspec": {
   "display_name": "Python 2",
   "language": "python",
   "name": "python2"
  },
  "language_info": {
   "codemirror_mode": {
    "name": "ipython",
    "version": 2
   },
   "file_extension": ".py",
   "mimetype": "text/x-python",
   "name": "python",
   "nbconvert_exporter": "python",
   "pygments_lexer": "ipython2",
   "version": "2.7.11"
  }
 },
 "nbformat": 4,
 "nbformat_minor": 0
}
