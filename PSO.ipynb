{
 "cells": [
  {
   "cell_type": "code",
   "execution_count": 41,
   "metadata": {
    "collapsed": false
   },
   "outputs": [],
   "source": [
    "import random\n",
    "import sys\n",
    "import numpy as np\n",
    "import copy"
   ]
  },
  {
   "cell_type": "code",
   "execution_count": 66,
   "metadata": {
    "collapsed": true
   },
   "outputs": [],
   "source": [
    "TARGET = 50\n",
    "MAX_INPUTS = 10\n",
    "MAX_PARTICLES = 10\n",
    "V_MAX = 10 #Maximum velocity change allowed\n",
    "MAX_EPOCHS = 200\n",
    "START_RANGE_MIN = 140\n",
    "START_RANGE_MAX = 200"
   ]
  },
  {
   "cell_type": "code",
   "execution_count": 63,
   "metadata": {
    "collapsed": false
   },
   "outputs": [],
   "source": [
    "class Particle:\n",
    "    def __init__(self, pBest):\n",
    "        self.data = [0] *  MAX_INPUTS\n",
    "        self.pBest = pBest\n",
    "        self.velocity = 0.0\n",
    "    \n",
    "    def get_data(self):\n",
    "        return self.data\n",
    "    \n",
    "    def set_data(self, value):\n",
    "        self.data = value\n",
    "    \n",
    "    def set_pBest(self, value):\n",
    "        self.pBest = value\n",
    "        \n",
    "    def get_pBest(self):\n",
    "        return self.pBest\n",
    "    \n",
    "    def get_velocity(self):\n",
    "        return self.velocity\n",
    "    \n",
    "    def set_velocity(self, value):\n",
    "        self.velocity = value"
   ]
  },
  {
   "cell_type": "code",
   "execution_count": 70,
   "metadata": {
    "collapsed": true
   },
   "outputs": [],
   "source": [
    "def initialize_Particles():\n",
    "    particles = []\n",
    "    for i in range(MAX_PARTICLES):\n",
    "        newParticle = Particle(0)\n",
    "        total = 0\n",
    "        data = []\n",
    "        for j in range(MAX_INPUTS):\n",
    "            data.append(np.floor(np.random.uniform(START_RANGE_MIN, START_RANGE_MAX)))\n",
    "        \n",
    "        newParticle.set_data(data)\n",
    "        newParticle.set_pBest(np.sum(data))\n",
    "        particles.append(copy.deepcopy(newParticle))\n",
    "    \n",
    "    return particles"
   ]
  },
  {
   "cell_type": "code",
   "execution_count": 56,
   "metadata": {
    "collapsed": true
   },
   "outputs": [],
   "source": [
    "def test_problem(index, particles):\n",
    "    val = 0\n",
    "    a = particles[index].get_data()\n",
    "    for i in a:\n",
    "        val += i\n",
    "    return val"
   ]
  },
  {
   "cell_type": "code",
   "execution_count": 69,
   "metadata": {
    "collapsed": true
   },
   "outputs": [],
   "source": [
    "def max_fitness(particles):\n",
    "    minimum = 0\n",
    "    for i in range(MAX_PARTICLES):\n",
    "        #print(\"i: \" + str(i))\n",
    "        if i!=minimum:\n",
    "            if np.abs(TARGET - test_problem(i, particles))<np.abs(TARGET - test_problem(minimum, particles)):\n",
    "                minimum = i\n",
    "    \n",
    "    return minimum"
   ]
  },
  {
   "cell_type": "code",
   "execution_count": 47,
   "metadata": {
    "collapsed": false
   },
   "outputs": [],
   "source": [
    "def calc_velocity(gBestIndex, particles):\n",
    "    \n",
    "    bestVal = test_problem(gBestIndex, particles)\n",
    "    for i in range(MAX_PARTICLES):\n",
    "        testVal = test_problem(i, particles)\n",
    "        velocity = particles[i].get_velocity() + (2 * np.random.uniform() * (bestVal - testVal))\n",
    "        velocity += (2 * np.random.uniform() * (particles[i].get_pBest() - testVal))\n",
    "        \n",
    "        if velocity > V_MAX:\n",
    "            velocity = V_MAX\n",
    "        elif velocity < -V_MAX:\n",
    "            velocity = -V_MAX\n",
    "        \n",
    "        particles[i].set_velocity(velocity)"
   ]
  },
  {
   "cell_type": "code",
   "execution_count": 88,
   "metadata": {
    "collapsed": true
   },
   "outputs": [],
   "source": [
    "def update_particles(particles, gBest):\n",
    "    for i in range(MAX_PARTICLES):\n",
    "        data = particles[i].get_data()\n",
    "        temp = particles[gBest].get_data()\n",
    "        vel = particles[i].get_velocity()\n",
    "        for y in range(len(data)):\n",
    "            if data[y] != temp[y]:\n",
    "                data[y] += vel\n",
    "                data[y]=np.floor(data[y])\n",
    "        particles[i].set_data(data)\n",
    "        \n",
    "        total = test_problem(i, particles)\n",
    "        if np.abs(TARGET - total) < particles[i].get_pBest():\n",
    "            particles[i].set_pBest(total)"
   ]
  },
  {
   "cell_type": "code",
   "execution_count": 91,
   "metadata": {
    "collapsed": true
   },
   "outputs": [],
   "source": [
    "def PSO_algo():\n",
    "    epoch = 1\n",
    "    result = []\n",
    "    solution = -1\n",
    "    \n",
    "    particles = initialize_Particles()\n",
    "    random.seed(10)\n",
    "    \n",
    "    while epoch<MAX_EPOCHS:\n",
    "        for i in range(MAX_PARTICLES):\n",
    "            if test_problem(i, particles)==TARGET:\n",
    "                result = particles[i].get_data()\n",
    "                solution = i\n",
    "                break\n",
    "        \n",
    "        if solution>=0:\n",
    "            print(result)\n",
    "            break\n",
    "        \n",
    "        gBest = max_fitness(particles)\n",
    "        \n",
    "        calc_velocity(gBest, particles)\n",
    "        update_particles(particles, gBest)\n",
    "        \n",
    "        #print(\"Best in epoch \" + str(epoch) +\": \" + str(particles[gBest].get_data()))\n",
    "        print(str(np.sum(particles[gBest].get_data())))\n",
    "        epoch += 1        "
   ]
  },
  {
   "cell_type": "code",
   "execution_count": 96,
   "metadata": {
    "collapsed": false
   },
   "outputs": [
    {
     "name": "stdout",
     "output_type": "stream",
     "text": [
      "1627.0\n",
      "1557.0\n",
      "1481.0\n",
      "1397.0\n",
      "1304.0\n",
      "1205.0\n",
      "1124.0\n",
      "1028.0\n",
      "957.0\n",
      "876.0\n",
      "777.0\n",
      "724.0\n",
      "625.0\n",
      "544.0\n",
      "467.0\n",
      "368.0\n",
      "277.0\n",
      "191.0\n",
      "106.0\n",
      "54.0\n",
      "54.0\n",
      "54.0\n",
      "54.0\n",
      "54.0\n",
      "54.0\n",
      "54.0\n",
      "54.0\n",
      "54.0\n",
      "54.0\n",
      "54.0\n",
      "54.0\n",
      "54.0\n",
      "54.0\n",
      "47.0\n",
      "47.0\n",
      "47.0\n",
      "47.0\n",
      "47.0\n",
      "47.0\n",
      "47.0\n",
      "47.0\n",
      "47.0\n",
      "47.0\n",
      "47.0\n",
      "47.0\n",
      "47.0\n",
      "47.0\n",
      "47.0\n",
      "47.0\n",
      "47.0\n",
      "47.0\n",
      "47.0\n",
      "47.0\n",
      "47.0\n",
      "47.0\n",
      "47.0\n",
      "47.0\n",
      "47.0\n",
      "47.0\n",
      "47.0\n",
      "47.0\n",
      "47.0\n",
      "47.0\n",
      "47.0\n",
      "47.0\n",
      "47.0\n",
      "47.0\n",
      "47.0\n",
      "47.0\n",
      "47.0\n",
      "47.0\n",
      "47.0\n",
      "47.0\n",
      "47.0\n",
      "47.0\n",
      "47.0\n",
      "47.0\n",
      "47.0\n",
      "47.0\n",
      "47.0\n",
      "47.0\n",
      "47.0\n",
      "47.0\n",
      "47.0\n",
      "47.0\n",
      "47.0\n",
      "47.0\n",
      "47.0\n",
      "47.0\n",
      "47.0\n",
      "47.0\n",
      "47.0\n",
      "47.0\n",
      "47.0\n",
      "47.0\n",
      "47.0\n",
      "47.0\n",
      "47.0\n",
      "47.0\n",
      "52.0\n",
      "52.0\n",
      "52.0\n",
      "52.0\n",
      "52.0\n",
      "52.0\n",
      "52.0\n",
      "52.0\n",
      "52.0\n",
      "52.0\n",
      "52.0\n",
      "52.0\n",
      "52.0\n",
      "52.0\n",
      "52.0\n",
      "52.0\n",
      "[46.0, -14.0, -24.0, 6.0, -19.0, 17.0, 49.0, 18.0, -6.0, -23.0]\n"
     ]
    }
   ],
   "source": [
    "#print(max_fitness())\n",
    "PSO_algo()"
   ]
  }
 ],
 "metadata": {
  "kernelspec": {
   "display_name": "Python 2",
   "language": "python",
   "name": "python2"
  },
  "language_info": {
   "codemirror_mode": {
    "name": "ipython",
    "version": 2
   },
   "file_extension": ".py",
   "mimetype": "text/x-python",
   "name": "python",
   "nbconvert_exporter": "python",
   "pygments_lexer": "ipython2",
   "version": "2.7.11"
  }
 },
 "nbformat": 4,
 "nbformat_minor": 0
}
