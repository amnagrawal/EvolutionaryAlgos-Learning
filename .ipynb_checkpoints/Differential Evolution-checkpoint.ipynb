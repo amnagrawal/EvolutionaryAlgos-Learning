{
 "cells": [
  {
   "cell_type": "code",
   "execution_count": 25,
   "metadata": {
    "collapsed": false
   },
   "outputs": [],
   "source": [
    "# Poori script ko ek hi bubble mein likhna tha toh ipython notebook use hi kyu kr rha h\n",
    "# Aise alag alag sections mein krte h isme\n",
    "# Niche aur errors the jo theek kiye h maine\n",
    "import time\n",
    "import random\n",
    "import copy\n",
    "import numpy"
   ]
  },
  {
   "cell_type": "code",
   "execution_count": 19,
   "metadata": {
    "collapsed": true
   },
   "outputs": [],
   "source": [
    "\n",
    "def get_best_pt(points):\n",
    "    best = sorted(points, key=lambda x:x.z)[0]\n",
    "    return best\n",
    "\n",
    "def sphere(x):\n",
    "    z = 0\n",
    "    for i in xrange(len(x)):\n",
    "        z += x[i]**2\n",
    "        \n",
    "    return z"
   ]
  },
  {
   "cell_type": "code",
   "execution_count": null,
   "metadata": {
    "collapsed": true
   },
   "outputs": [],
   "source": []
  },
  {
   "cell_type": "code",
   "execution_count": 28,
   "metadata": {
    "collapsed": true
   },
   "outputs": [],
   "source": [
    "\n",
    "class Point:\n",
    "    def __init__(self, dim=3, upper_limit=5, lower_limit=-5):\n",
    "        self.dim = dim\n",
    "        self.upper_limit = upper_limit\n",
    "        self.lower_limit = lower_limit\n",
    "        self.coordinates = [0]*dim\n",
    "        self.z = 0\n",
    "    \n",
    "    def random_point(self):\n",
    "        temp = []\n",
    "        for i in range(self.dim):\n",
    "            temp.append(numpy.random.uniform(self.lower_limit, self.upper_limit))\n",
    "            \n",
    "        self.coordinates = copy.deepcopy(temp)\n",
    "        self.z = sphere(self.coordinates)\n",
    "    \n",
    "    def find_neighbour(self):\n",
    "        for xi in xrange(self.dim):\n",
    "            offset = (2 * numpy.random.random() - 1.0) * 0.5\n",
    "            self.coordinates[xi] += offset\n",
    "            if self.coordinates[xi] > self.upper_limit:\n",
    "                self.coordinates[xi] = self.upper_limit\n",
    "            elif self.coordinates[xi] < self.lower_limit:\n",
    "                self.coordinates[xi] = self.lower_limit\n",
    "    \n",
    "    def pt_value(self):\n",
    "        self.z = sphere(self.coordinates)"
   ]
  },
  {
   "cell_type": "code",
   "execution_count": 27,
   "metadata": {
    "collapsed": true
   },
   "outputs": [],
   "source": [
    "class Population:\n",
    "    def __init__(self, dim=3, num_points=20, upper_limit=5, lower_limit=-5):\n",
    "        self.points = []\n",
    "        self.num_points = num_points\n",
    "        for i in range(num_points):\n",
    "            new_point = Point(dim=dim, upper_limit=upper_limit, lower_limit=lower_limit)\n",
    "            # BHAI FUNCTION CALL KRTA H TOH () BHI LAGA LIYA KAR -_-\n",
    "            # new_point.random_point\n",
    "            new_point.random_point()\n",
    "            self.points.append(copy.deepcopy(new_point))\n",
    "    \n",
    "    def create_population(self):\n",
    "        neighbour = copy.deepcopy(self)\n",
    "        \n",
    "        for i in xrange(self.num_points):\n",
    "            neighbour.points[i].find_neighbour()\n",
    "            \n",
    "        return neighbour"
   ]
  },
  {
   "cell_type": "code",
   "execution_count": 29,
   "metadata": {
    "collapsed": true
   },
   "outputs": [],
   "source": [
    "class DifferentialEvolution:\n",
    "    def __init__(self, num_iterations=10, CR=0.4, F=0.48, dim=3):\n",
    "        random.seed()\n",
    "        self.num_iterations = num_iterations\n",
    "        self.CR = CR\n",
    "        self.F = F\n",
    "        self.iteration = 0\n",
    "        self.population = Population(dim=dim)\n",
    "        \n",
    "    def iterate(self):\n",
    "        for i in xrange(self.population.num_points):\n",
    "            x = self.population.points[i]\n",
    "            [a, b, c] = random.sample(self.population.points, 3)\n",
    "            while x==a or x==b or x==c:\n",
    "                [a, b, c] = random.sample(self.population.points, 3)\n",
    "            \n",
    "            R = random.randint(0, x.dim)\n",
    "            y = copy.deepcopy(x)\n",
    "            \n",
    "            for j in xrange(x.dim):\n",
    "                ri = random.random()\n",
    "                \n",
    "                if ri<self.CR or j==R:\n",
    "                    y.coordinates[j] = a.coordinates[j] + self.F * (b.coordinates[j] - c.coordinates[j])\n",
    "                    \n",
    "            y.pt_value()\n",
    "            if y.z < x.z:\n",
    "                self.population.points[i] = y\n",
    "                \n",
    "        self.iteration += 1\n",
    "    \n",
    "    def simulate(self):\n",
    "        pt = get_best_pt(self.population.points)\n",
    "        print \"Initial best value: \", str(pt.z)\n",
    "        \n",
    "        while self.iteration < self.num_iterations:\n",
    "            # Yaha bhi () nhi lagaya hua tha function call mein\n",
    "            self.iterate()\n",
    "            \n",
    "        pt = get_best_pt(self.population.points)\n",
    "        print \"Final best value: \", str(pt.z)\n",
    "        \n",
    "        return pt.z"
   ]
  },
  {
   "cell_type": "code",
   "execution_count": 30,
   "metadata": {
    "collapsed": false
   },
   "outputs": [],
   "source": [
    "number_of_runs = 1\n",
    "val = 0\n",
    "print_time = True\n",
    "\n",
    "# for i in xrange(number_of_runs):\n",
    "#     start = time.clock()\n",
    "#     de = DifferentialEvolution(num_iterations=100, dim=2, CR=0.4, F=0.48)\n",
    "#     val += de.simulate()\n",
    "#     if print_time:\n",
    "#         print(\"\")\n",
    "#         print(time.clock() - start)"
   ]
  },
  {
   "cell_type": "code",
   "execution_count": 38,
   "metadata": {
    "collapsed": false
   },
   "outputs": [
    {
     "name": "stdout",
     "output_type": "stream",
     "text": [
      "Initial best value:  1.58900295148\n",
      "Final best value:  1.33441722364e-181\n",
      "Final average of all runs:  1.33441722364e-181\n",
      "See! Everything works now :D\n"
     ]
    }
   ],
   "source": [
    "de = DifferentialEvolution(num_iterations=800, dim=2, CR=0.4, F=0.45)\n",
    "val = de.simulate()\n",
    "\n",
    "print(\"Final average of all runs: \"), (val / number_of_runs)\n",
    "print(\"See! Everything works now :D\")"
   ]
  }
 ],
 "metadata": {
  "kernelspec": {
   "display_name": "Python 2",
   "language": "python",
   "name": "python2"
  },
  "language_info": {
   "codemirror_mode": {
    "name": "ipython",
    "version": 2
   },
   "file_extension": ".py",
   "mimetype": "text/x-python",
   "name": "python",
   "nbconvert_exporter": "python",
   "pygments_lexer": "ipython2",
   "version": "2.7.6"
  }
 },
 "nbformat": 4,
 "nbformat_minor": 0
}
